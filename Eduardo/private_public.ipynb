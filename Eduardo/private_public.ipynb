{
 "cells": [
  {
   "cell_type": "code",
   "execution_count": null,
   "metadata": {},
   "outputs": [],
   "source": [
    "import pandas as pd\n",
    "from sodapy import Socrata\n",
    "\n",
    "# Replace None with your app token \"AVDM_Competencies\" for authenticated access\n",
    "client = Socrata(\"analisi.transparenciacatalunya.cat\", \"LvvKUfbMJLH9IdgS7C4hXbeye\")\n",
    "\n",
    "# Fetch the first 2000 results as JSON and convert them to a Python list of dictionaries\n",
    "results = client.get(\"rk5x-gny6\",limit=1000000)\n",
    "\n",
    "# Convert to pandas DataFrame\n",
    "comp = pd.DataFrame.from_records(results)\n",
    "\n",
    "# Display the DataFrame\n",
    "# print(comp)"
   ]
  },
  {
   "cell_type": "code",
   "execution_count": 7,
   "metadata": {},
   "outputs": [],
   "source": [
    "comp.columns\n",
    "c_priv = comp[comp[\"naturalesa\"] == \"Privat\"]\n",
    "c_pub = comp[comp[\"naturalesa\"] == \"Públic\"]"
   ]
  },
  {
   "cell_type": "code",
   "execution_count": 8,
   "metadata": {},
   "outputs": [
    {
     "name": "stdout",
     "output_type": "stream",
     "text": [
      "Media Mat Global. Privado: 80.17855130287832\n",
      "Media Mat Global. Público: 76.26788004966657\n"
     ]
    }
   ],
   "source": [
    "print(\"Media Mat Global. Privado:\", pd.to_numeric(c_priv.pmat, errors = \"coerce\").mean())\n",
    "print(\"Media Mat Global. Público:\", pd.to_numeric(c_pub.pmat, errors = \"coerce\").mean())\n"
   ]
  },
  {
   "cell_type": "code",
   "execution_count": 9,
   "metadata": {},
   "outputs": [
    {
     "ename": "ImportError",
     "evalue": "matplotlib is required for plotting when the default backend \"matplotlib\" is selected.",
     "output_type": "error",
     "traceback": [
      "\u001b[0;31m---------------------------------------------------------------------------\u001b[0m",
      "\u001b[0;31mImportError\u001b[0m                               Traceback (most recent call last)",
      "Cell \u001b[0;32mIn[9], line 1\u001b[0m\n\u001b[0;32m----> 1\u001b[0m \u001b[43mcomp\u001b[49m\u001b[43m[\u001b[49m\u001b[38;5;124;43m\"\u001b[39;49m\u001b[38;5;124;43mnaturalesa\u001b[39;49m\u001b[38;5;124;43m\"\u001b[39;49m\u001b[43m]\u001b[49m\u001b[38;5;241;43m.\u001b[39;49m\u001b[43mvalue_counts\u001b[49m\u001b[43m(\u001b[49m\u001b[43m)\u001b[49m\u001b[38;5;241;43m.\u001b[39;49m\u001b[43mplot\u001b[49m\u001b[38;5;241;43m.\u001b[39;49m\u001b[43mpie\u001b[49m\u001b[43m(\u001b[49m\u001b[43m)\u001b[49m\n",
      "File \u001b[0;32m~/miniconda3/envs/avdm_env/lib/python3.9/site-packages/pandas/plotting/_core.py:1658\u001b[0m, in \u001b[0;36mPlotAccessor.pie\u001b[0;34m(self, **kwargs)\u001b[0m\n\u001b[1;32m   1652\u001b[0m \u001b[38;5;28;01mif\u001b[39;00m (\n\u001b[1;32m   1653\u001b[0m     \u001b[38;5;28misinstance\u001b[39m(\u001b[38;5;28mself\u001b[39m\u001b[38;5;241m.\u001b[39m_parent, ABCDataFrame)\n\u001b[1;32m   1654\u001b[0m     \u001b[38;5;129;01mand\u001b[39;00m kwargs\u001b[38;5;241m.\u001b[39mget(\u001b[38;5;124m\"\u001b[39m\u001b[38;5;124my\u001b[39m\u001b[38;5;124m\"\u001b[39m, \u001b[38;5;28;01mNone\u001b[39;00m) \u001b[38;5;129;01mis\u001b[39;00m \u001b[38;5;28;01mNone\u001b[39;00m\n\u001b[1;32m   1655\u001b[0m     \u001b[38;5;129;01mand\u001b[39;00m \u001b[38;5;129;01mnot\u001b[39;00m kwargs\u001b[38;5;241m.\u001b[39mget(\u001b[38;5;124m\"\u001b[39m\u001b[38;5;124msubplots\u001b[39m\u001b[38;5;124m\"\u001b[39m, \u001b[38;5;28;01mFalse\u001b[39;00m)\n\u001b[1;32m   1656\u001b[0m ):\n\u001b[1;32m   1657\u001b[0m     \u001b[38;5;28;01mraise\u001b[39;00m \u001b[38;5;167;01mValueError\u001b[39;00m(\u001b[38;5;124m\"\u001b[39m\u001b[38;5;124mpie requires either y column or \u001b[39m\u001b[38;5;124m'\u001b[39m\u001b[38;5;124msubplots=True\u001b[39m\u001b[38;5;124m'\u001b[39m\u001b[38;5;124m\"\u001b[39m)\n\u001b[0;32m-> 1658\u001b[0m \u001b[38;5;28;01mreturn\u001b[39;00m \u001b[38;5;28;43mself\u001b[39;49m\u001b[43m(\u001b[49m\u001b[43mkind\u001b[49m\u001b[38;5;241;43m=\u001b[39;49m\u001b[38;5;124;43m\"\u001b[39;49m\u001b[38;5;124;43mpie\u001b[39;49m\u001b[38;5;124;43m\"\u001b[39;49m\u001b[43m,\u001b[49m\u001b[43m \u001b[49m\u001b[38;5;241;43m*\u001b[39;49m\u001b[38;5;241;43m*\u001b[39;49m\u001b[43mkwargs\u001b[49m\u001b[43m)\u001b[49m\n",
      "File \u001b[0;32m~/miniconda3/envs/avdm_env/lib/python3.9/site-packages/pandas/plotting/_core.py:947\u001b[0m, in \u001b[0;36mPlotAccessor.__call__\u001b[0;34m(self, *args, **kwargs)\u001b[0m\n\u001b[1;32m    946\u001b[0m \u001b[38;5;28;01mdef\u001b[39;00m \u001b[38;5;21m__call__\u001b[39m(\u001b[38;5;28mself\u001b[39m, \u001b[38;5;241m*\u001b[39margs, \u001b[38;5;241m*\u001b[39m\u001b[38;5;241m*\u001b[39mkwargs):\n\u001b[0;32m--> 947\u001b[0m     plot_backend \u001b[38;5;241m=\u001b[39m \u001b[43m_get_plot_backend\u001b[49m\u001b[43m(\u001b[49m\u001b[43mkwargs\u001b[49m\u001b[38;5;241;43m.\u001b[39;49m\u001b[43mpop\u001b[49m\u001b[43m(\u001b[49m\u001b[38;5;124;43m\"\u001b[39;49m\u001b[38;5;124;43mbackend\u001b[39;49m\u001b[38;5;124;43m\"\u001b[39;49m\u001b[43m,\u001b[49m\u001b[43m \u001b[49m\u001b[38;5;28;43;01mNone\u001b[39;49;00m\u001b[43m)\u001b[49m\u001b[43m)\u001b[49m\n\u001b[1;32m    949\u001b[0m     x, y, kind, kwargs \u001b[38;5;241m=\u001b[39m \u001b[38;5;28mself\u001b[39m\u001b[38;5;241m.\u001b[39m_get_call_args(\n\u001b[1;32m    950\u001b[0m         plot_backend\u001b[38;5;241m.\u001b[39m\u001b[38;5;18m__name__\u001b[39m, \u001b[38;5;28mself\u001b[39m\u001b[38;5;241m.\u001b[39m_parent, args, kwargs\n\u001b[1;32m    951\u001b[0m     )\n\u001b[1;32m    953\u001b[0m     kind \u001b[38;5;241m=\u001b[39m \u001b[38;5;28mself\u001b[39m\u001b[38;5;241m.\u001b[39m_kind_aliases\u001b[38;5;241m.\u001b[39mget(kind, kind)\n",
      "File \u001b[0;32m~/miniconda3/envs/avdm_env/lib/python3.9/site-packages/pandas/plotting/_core.py:1944\u001b[0m, in \u001b[0;36m_get_plot_backend\u001b[0;34m(backend)\u001b[0m\n\u001b[1;32m   1941\u001b[0m \u001b[38;5;28;01mif\u001b[39;00m backend_str \u001b[38;5;129;01min\u001b[39;00m _backends:\n\u001b[1;32m   1942\u001b[0m     \u001b[38;5;28;01mreturn\u001b[39;00m _backends[backend_str]\n\u001b[0;32m-> 1944\u001b[0m module \u001b[38;5;241m=\u001b[39m \u001b[43m_load_backend\u001b[49m\u001b[43m(\u001b[49m\u001b[43mbackend_str\u001b[49m\u001b[43m)\u001b[49m\n\u001b[1;32m   1945\u001b[0m _backends[backend_str] \u001b[38;5;241m=\u001b[39m module\n\u001b[1;32m   1946\u001b[0m \u001b[38;5;28;01mreturn\u001b[39;00m module\n",
      "File \u001b[0;32m~/miniconda3/envs/avdm_env/lib/python3.9/site-packages/pandas/plotting/_core.py:1874\u001b[0m, in \u001b[0;36m_load_backend\u001b[0;34m(backend)\u001b[0m\n\u001b[1;32m   1872\u001b[0m         module \u001b[38;5;241m=\u001b[39m importlib\u001b[38;5;241m.\u001b[39mimport_module(\u001b[38;5;124m\"\u001b[39m\u001b[38;5;124mpandas.plotting._matplotlib\u001b[39m\u001b[38;5;124m\"\u001b[39m)\n\u001b[1;32m   1873\u001b[0m     \u001b[38;5;28;01mexcept\u001b[39;00m \u001b[38;5;167;01mImportError\u001b[39;00m:\n\u001b[0;32m-> 1874\u001b[0m         \u001b[38;5;28;01mraise\u001b[39;00m \u001b[38;5;167;01mImportError\u001b[39;00m(\n\u001b[1;32m   1875\u001b[0m             \u001b[38;5;124m\"\u001b[39m\u001b[38;5;124mmatplotlib is required for plotting when the \u001b[39m\u001b[38;5;124m\"\u001b[39m\n\u001b[1;32m   1876\u001b[0m             \u001b[38;5;124m'\u001b[39m\u001b[38;5;124mdefault backend \u001b[39m\u001b[38;5;124m\"\u001b[39m\u001b[38;5;124mmatplotlib\u001b[39m\u001b[38;5;124m\"\u001b[39m\u001b[38;5;124m is selected.\u001b[39m\u001b[38;5;124m'\u001b[39m\n\u001b[1;32m   1877\u001b[0m         ) \u001b[38;5;28;01mfrom\u001b[39;00m \u001b[38;5;28;01mNone\u001b[39;00m\n\u001b[1;32m   1878\u001b[0m     \u001b[38;5;28;01mreturn\u001b[39;00m module\n\u001b[1;32m   1880\u001b[0m found_backend \u001b[38;5;241m=\u001b[39m \u001b[38;5;28;01mFalse\u001b[39;00m\n",
      "\u001b[0;31mImportError\u001b[0m: matplotlib is required for plotting when the default backend \"matplotlib\" is selected."
     ]
    }
   ],
   "source": [
    "comp[\"naturalesa\"].value_counts().plot.pie()"
   ]
  },
  {
   "cell_type": "code",
   "execution_count": 2,
   "metadata": {},
   "outputs": [
    {
     "name": "stdout",
     "output_type": "stream",
     "text": [
      "     curs_escolar codi_centre                      nom_centre  \\\n",
      "0       2022-2023    08053625                  Delta - Espiga   \n",
      "1       2022-2023    08031356                        Montagut   \n",
      "2       2022-2023    08031371                      Sant Josep   \n",
      "3       2022-2023    08031401         Sant Ramon de Penyafort   \n",
      "4       2022-2023    08031381  Vedruna Vilafranca del Penedès   \n",
      "...           ...         ...                             ...   \n",
      "4155    2017-2018    08000700             Maristes Champagnat   \n",
      "4156    2017-2018    08000670         Mare de Déu de la Salut   \n",
      "4157    2017-2018    08000608                      Montserrat   \n",
      "4158    2017-2018    08000578              Nen Jesús de Praga   \n",
      "4159    2017-2018    08000517                     Sant Andreu   \n",
      "\n",
      "                    municipi                               titularitat  \\\n",
      "0     Vilafranca del Penedès                         Fundació L'Espiga   \n",
      "1     Vilafranca del Penedès                  Fundació Escola Montagut   \n",
      "2     Vilafranca del Penedès    Fundació Esc. Sant Josep de Vilafranca   \n",
      "3     Vilafranca del Penedès              Sagrada Família, Fills de la   \n",
      "4     Vilafranca del Penedès       Fundació Vedruna Catalunya Educació   \n",
      "...                      ...                                       ...   \n",
      "4155                Badalona                       Fundació Champagnat   \n",
      "4156                Badalona  Fund.Escoles Parroquials Arxidiòcesi BCN   \n",
      "4157                Badalona                       Col. Montserrat, SL   \n",
      "4158                Badalona                    Nen Jesús de Praga, SL   \n",
      "4159                Badalona     Sagrada Família de Natzaret, Mission.   \n",
      "\n",
      "     unitats_concertades_ede alumnes_ede dotaci_plantilla        brut  \\\n",
      "0                          8          48               23    808440.3   \n",
      "1                        NaN         NaN             3968  1582731.95   \n",
      "2                        NaN         NaN             1972   859613.94   \n",
      "3                        NaN         NaN             3768  1600690.83   \n",
      "4                        NaN         NaN             3768  1539828.94   \n",
      "...                      ...         ...              ...         ...   \n",
      "4155                     NaN         NaN            52.33  1927439.93   \n",
      "4156                     NaN         NaN               13   429077.23   \n",
      "4157                     NaN         NaN               13   446602.36   \n",
      "4158                     NaN         NaN            19.72   751687.93   \n",
      "4159                     NaN         NaN            57.16  2058083.26   \n",
      "\n",
      "       seg_social  ... unitats_concertades_eso alumnes_einf alumnes_pri  \\\n",
      "0     257892.4557  ...                     NaN          NaN         NaN   \n",
      "1     504891.4921  ...                       8          148         316   \n",
      "2     274216.8469  ...                       4           70         159   \n",
      "3     510620.3748  ...                       8          124         306   \n",
      "4     491205.4319  ...                       8          126         301   \n",
      "...           ...  ...                     ...          ...         ...   \n",
      "4155    595578.94  ...                      12          163         459   \n",
      "4156    132584.86  ...                     NaN           72         158   \n",
      "4157    138000.13  ...                     NaN           71         144   \n",
      "4158    232271.57  ...                       4           59         159   \n",
      "4159    635947.73  ...                      12          200         461   \n",
      "\n",
      "     alumnes_eso unitats_concertades_cfpm alumnes_batx alumnes_cfpm  \\\n",
      "0            NaN                      NaN          NaN          NaN   \n",
      "1            243                      NaN          NaN          NaN   \n",
      "2            117                      NaN          NaN          NaN   \n",
      "3            229                      NaN          NaN          NaN   \n",
      "4            239                      NaN          NaN          NaN   \n",
      "...          ...                      ...          ...          ...   \n",
      "4155         343                      NaN          NaN          NaN   \n",
      "4156         NaN                      NaN          NaN          NaN   \n",
      "4157         NaN                      NaN          NaN          NaN   \n",
      "4158         123                      NaN          NaN          NaN   \n",
      "4159         354                      NaN          NaN          NaN   \n",
      "\n",
      "     alumnes_cfps unitats_concertades_batx unitats_concertades_cfps  \n",
      "0             NaN                      NaN                      NaN  \n",
      "1             NaN                      NaN                      NaN  \n",
      "2             NaN                      NaN                      NaN  \n",
      "3             NaN                      NaN                      NaN  \n",
      "4             NaN                      NaN                      NaN  \n",
      "...           ...                      ...                      ...  \n",
      "4155          NaN                      NaN                      NaN  \n",
      "4156          NaN                      NaN                      NaN  \n",
      "4157          NaN                      NaN                      NaN  \n",
      "4158          NaN                      NaN                      NaN  \n",
      "4159          NaN                      NaN                      NaN  \n",
      "\n",
      "[4160 rows x 23 columns]\n"
     ]
    }
   ],
   "source": [
    "import pandas as pd\n",
    "from sodapy import Socrata\n",
    "\n",
    "# Replace None with your app token \"AVDM_Competencies\" for authenticated access\n",
    "client = Socrata(\"analisi.transparenciacatalunya.cat\", \"LvvKUfbMJLH9IdgS7C4hXbeye\")\n",
    "\n",
    "# Fetch the first 2000 results as JSON and convert them to a Python list of dictionaries\n",
    "results = client.get(\"8spq-9nx7\",limit=10000)\n",
    "\n",
    "# Convert to pandas DataFrame\n",
    "Gastos = pd.DataFrame.from_records(results)\n",
    "\n",
    "# Display the DataFrame\n",
    "print(Gastos)"
   ]
  },
  {
   "cell_type": "code",
   "execution_count": null,
   "metadata": {},
   "outputs": [],
   "source": []
  },
  {
   "cell_type": "code",
   "execution_count": null,
   "metadata": {},
   "outputs": [],
   "source": []
  },
  {
   "cell_type": "code",
   "execution_count": null,
   "metadata": {},
   "outputs": [],
   "source": []
  },
  {
   "cell_type": "code",
   "execution_count": null,
   "metadata": {},
   "outputs": [],
   "source": []
  },
  {
   "cell_type": "code",
   "execution_count": null,
   "metadata": {},
   "outputs": [],
   "source": []
  },
  {
   "cell_type": "code",
   "execution_count": 16,
   "metadata": {},
   "outputs": [
    {
     "name": "stdout",
     "output_type": "stream",
     "text": [
      "      any codi_alumne  pcat pcat_cl pcat_ee pcast pcast_cl pcast_ee  pmat  \\\n",
      "0    2023   454865051  87.2   97.73   66.67  81.2    95.45    55.56  67.1   \n",
      "1    2023   863594859  51.8   59.09   44.44    54    65.91    33.33  65.9   \n",
      "2    2023    55315887  74.2      75   66.67  69.1    70.45    61.11  91.5   \n",
      "3    2023   454854718  50.2   45.45      50  63.9    56.82    61.11  47.9   \n",
      "4    2023   493493648  78.5   90.91   61.11  90.6    90.91    88.89  77.7   \n",
      "..    ...         ...   ...     ...     ...   ...      ...      ...   ...   \n",
      "995  2023   862829050  96.6   93.18     100    89    95.45    77.78  96.8   \n",
      "996  2023   862852493  84.5   84.09   83.33    81    86.36    72.22    94   \n",
      "997  2023   862863715  81.6   93.18   66.67  91.7      100    83.33  96.8   \n",
      "998  2023   863020257  89.4   97.73   77.78  87.4    95.45    77.78    89   \n",
      "999  2023   863605192  75.9   79.55   88.89  74.5    72.73    77.78  60.4   \n",
      "\n",
      "    pmat_nc  ...   pmed pmed_comp1 pmed_comp2 pmed_comp3 genere mes_naixement  \\\n",
      "0     78.57  ...  55.42      56.25         60         50      D             6   \n",
      "1     57.14  ...  40.69      43.75         20      58.33      H            10   \n",
      "2     92.86  ...  78.33         75         60        100      H             5   \n",
      "3     57.14  ...  60.56         75         40      66.67      H             4   \n",
      "4     78.57  ...  82.78         75         90      83.33      H             2   \n",
      "..      ...  ...    ...        ...        ...        ...    ...           ...   \n",
      "995     100  ...    100        100        100        100      H             2   \n",
      "996   92.86  ...  85.83       87.5         70        100      D             5   \n",
      "997     100  ...  89.17       87.5         80        100      H            11   \n",
      "998     100  ...  84.03      68.75        100      83.33      H             5   \n",
      "999   85.71  ...  80.83       62.5         80        100      H             5   \n",
      "\n",
      "    any_naixement                  area_territorial naturalesa  \\\n",
      "0            2011  Consorci d'Educació de Barcelona     Privat   \n",
      "1            2011         Maresme - Vallès Oriental     Privat   \n",
      "2            2011  Consorci d'Educació de Barcelona     Privat   \n",
      "3            2011  Consorci d'Educació de Barcelona     Privat   \n",
      "4            2011  Consorci d'Educació de Barcelona     Privat   \n",
      "..            ...                               ...        ...   \n",
      "995          2011         Maresme - Vallès Oriental     Privat   \n",
      "996          2011         Maresme - Vallès Oriental     Privat   \n",
      "997          2011         Maresme - Vallès Oriental     Privat   \n",
      "998          2011         Maresme - Vallès Oriental     Privat   \n",
      "999          2011         Maresme - Vallès Oriental     Privat   \n",
      "\n",
      "               h_bitat  \n",
      "0        Més de 100000  \n",
      "1    De 10001 a 100000  \n",
      "2        Més de 100000  \n",
      "3        Més de 100000  \n",
      "4        Més de 100000  \n",
      "..                 ...  \n",
      "995  De 10001 a 100000  \n",
      "996  De 10001 a 100000  \n",
      "997  De 10001 a 100000  \n",
      "998  De 10001 a 100000  \n",
      "999  De 10001 a 100000  \n",
      "\n",
      "[1000 rows x 28 columns]\n"
     ]
    }
   ],
   "source": [
    "import pandas as pd\n",
    "from sodapy import Socrata\n",
    "\n",
    "# Unauthenticated client only works with public data sets. Note 'None'\n",
    "# in place of application token, and no username or password:\n",
    "client = Socrata(\"analisi.transparenciacatalunya.cat\", \n",
    "                 \"LvvKUfbMJLH9IdgS7C4hXbeye\",\n",
    "                 username=\"eduardodejuanbitria@gmail.com\",\n",
    "                 password=\"JArMFrTf9EwCuP.\")\n",
    "\n",
    "# Example authenticated client (needed for non-public datasets):\n",
    "# client = Socrata(analisi.transparenciacatalunya.cat,\n",
    "#                  MyAppToken,\n",
    "#                  username=\"user@example.com\",\n",
    "#                  password=\"AFakePassword\")\n",
    "\n",
    "# First 2000 results, returned as JSON from API / converted to Python list of\n",
    "# dictionaries by sodapy.\n",
    "results = client.get(\"rk5x-gny6\")\n",
    "\n",
    "# Convert to pandas DataFrame\n",
    "results_df = pd.DataFrame.from_records(results)\n",
    "\n",
    "# Display the DataFrame\n",
    "print(results_df)"
   ]
  },
  {
   "cell_type": "code",
   "execution_count": 11,
   "metadata": {},
   "outputs": [
    {
     "data": {
      "text/plain": [
       "pandas.core.frame.DataFrame"
      ]
     },
     "execution_count": 11,
     "metadata": {},
     "output_type": "execute_result"
    }
   ],
   "source": [
    "type(results_df)"
   ]
  },
  {
   "cell_type": "code",
   "execution_count": 2,
   "metadata": {},
   "outputs": [
    {
     "ename": "SyntaxError",
     "evalue": "invalid syntax (349717031.py, line 1)",
     "output_type": "error",
     "traceback": [
      "\u001b[0;36m  Cell \u001b[0;32mIn[2], line 1\u001b[0;36m\u001b[0m\n\u001b[0;31m    https://analisi.transparenciacatalunya.cat/resource/rk5x-gny6.json\u001b[0m\n\u001b[0m          ^\u001b[0m\n\u001b[0;31mSyntaxError\u001b[0m\u001b[0;31m:\u001b[0m invalid syntax\n"
     ]
    }
   ],
   "source": [
    "https://analisi.transparenciacatalunya.cat/resource/rk5x-gny6.json"
   ]
  }
 ],
 "metadata": {
  "kernelspec": {
   "display_name": "avdm_env",
   "language": "python",
   "name": "python3"
  },
  "language_info": {
   "codemirror_mode": {
    "name": "ipython",
    "version": 3
   },
   "file_extension": ".py",
   "mimetype": "text/x-python",
   "name": "python",
   "nbconvert_exporter": "python",
   "pygments_lexer": "ipython3",
   "version": "3.9.20"
  }
 },
 "nbformat": 4,
 "nbformat_minor": 2
}
