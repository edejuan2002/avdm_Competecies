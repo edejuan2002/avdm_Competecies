{
 "cells": [
  {
   "cell_type": "markdown",
   "id": "119e080c-42e4-4bed-9cd4-9e500012c56f",
   "metadata": {},
   "source": [
    "We extract the data from the web using an API"
   ]
  },
  {
   "cell_type": "code",
   "execution_count": 185,
   "id": "44a8a602-4384-4f3b-b967-a9d93620fa35",
   "metadata": {},
   "outputs": [],
   "source": [
    "import pandas as pd\n",
    "from sodapy import Socrata\n",
    "\n",
    "# Replace None with your app token \"AVDM_Competencies\" for authenticated access\n",
    "client = Socrata(\"analisi.transparenciacatalunya.cat\", \"5fdymyZntjECVai1ZmolqKBeG\")\n",
    "\n",
    "# Fetch the first 2000 results as JSON and convert them to a Python list of dictionaries\n",
    "results = client.get(\"rk5x-gny6\",limit=100000) #\"rk5x-gny6\" esto es de la base de datos\n",
    "\n",
    "# Convert to pandas DataFrame\n",
    "comp = pd.DataFrame.from_records(results)"
   ]
  },
  {
   "cell_type": "code",
   "execution_count": 208,
   "id": "220957e5-6843-40ec-9846-38969e1d798d",
   "metadata": {},
   "outputs": [
    {
     "data": {
      "text/plain": [
       "Index(['codi_alumne', 'pcat', 'pcat_cl', 'pcat_ee', 'pcast', 'pcast_cl',\n",
       "       'pcast_ee', 'pmat', 'pmat_nc', 'pmat_efm', 'pmat_cr', 'pang', 'pang_co',\n",
       "       'pang_ce', 'pang_ee', 'pcat_co', 'pcast_co', 'pmed'],\n",
       "      dtype='object')"
      ]
     },
     "execution_count": 208,
     "metadata": {},
     "output_type": "execute_result"
    }
   ],
   "source": [
    "#Check columns\n",
    "comp.columns"
   ]
  },
  {
   "cell_type": "code",
   "execution_count": 189,
   "id": "5769d2ff-7af5-4aeb-80a3-0a357f63ee41",
   "metadata": {},
   "outputs": [],
   "source": [
    "columns =['codi_alumne','pcat', 'pcat_cl', 'pcat_ee', 'pcast', 'pcast_cl',\n",
    "       'pcast_ee', 'pmat', 'pmat_nc', 'pmat_efm', 'pmat_cr', 'pang', 'pang_co',\n",
    "       'pang_ce', 'pang_ee', 'pcat_co', 'pcast_co', 'pmed']"
   ]
  },
  {
   "cell_type": "code",
   "execution_count": 210,
   "id": "6d0a11ee-0cfe-4962-9532-7ff2d9a0baec",
   "metadata": {},
   "outputs": [],
   "source": [
    "#Select columns I want and dropna\n",
    "comp = comp[columns]\n",
    "comp = comp.dropna()"
   ]
  },
  {
   "cell_type": "code",
   "execution_count": 214,
   "id": "fd6d9582-fdf0-49d4-b8aa-0af0d59c7c0a",
   "metadata": {},
   "outputs": [],
   "source": [
    "# Checked repeated codes\n",
    "repeated = comp['codi_alumne'].value_counts()\n",
    "no_unique = repeated[repeated > 1].index\n",
    "unique = repeated[repeated == 1]\n",
    "# The maximum repetition is two"
   ]
  },
  {
   "cell_type": "markdown",
   "id": "bedb5a7f-abf0-43b7-9ec0-990da79e2b0b",
   "metadata": {},
   "source": [
    "El que vull primer és trobar una separació d'assignatures segons les intell·ligències múltiples, tenir una agrupació i llavors hauré de fer la mitjana per alumne de la nota en les diferents assignatures. Llavors hauré de trobar una manera de mirar les diferències.\n",
    "* Lingüística: PCAT, PCAST, PANG\n",
    "* Lògico-matemàtica: PMAT_NC, PMAT_CR\n",
    "* Naturalista: PMED\n",
    "* Espaial: PMAT_EFM\n"
   ]
  },
  {
   "cell_type": "code",
   "execution_count": 195,
   "id": "5bd3d898-2da3-4acf-bcdc-77978fcf79e4",
   "metadata": {},
   "outputs": [
    {
     "name": "stdout",
     "output_type": "stream",
     "text": [
      "       codi_alumne  pcat  pcast    pang  pmat_nc  pmat_efm  pmat_cr   pmed\n",
      "0      10025180886  49.5   56.0   57.08    71.43     90.91    55.56  44.03\n",
      "1      10025641164  77.8   77.9  100.00    85.71     54.55    55.56  72.92\n",
      "2      10025652386  79.5   84.8   88.67    92.86     63.64    55.56  69.86\n",
      "3      10025664607  57.2   55.0   57.25    64.29     54.55    55.56  53.33\n",
      "4      10025675828  55.5   52.7   60.17   100.00    100.00    77.78  64.03\n",
      "...            ...   ...    ...     ...      ...       ...      ...    ...\n",
      "92661    999814386  85.7   90.6   90.75   100.00    100.00   100.00  94.44\n",
      "92662    999826608  49.0   48.0   31.25    71.43     27.27    66.67  66.25\n",
      "92663    999837829  79.8   76.2   72.50    80.00     70.00    66.67  74.44\n",
      "92664    999848162  83.5   76.6   47.50    80.00     90.00    55.56  78.61\n",
      "92665    999859383  69.0   61.9   59.60    86.67     60.00    33.33  58.06\n",
      "\n",
      "[92666 rows x 8 columns]\n"
     ]
    }
   ],
   "source": [
    "#Make sure columns are numerical\n",
    "col_num = ['pcat', 'pcast', 'pang', 'pmat_nc', 'pmat_efm', 'pmat_cr', 'pmed']\n",
    "comp[col_num] = comp[col_num].apply(pd.to_numeric, errors='coerce')\n",
    "\n",
    "# Drop nan\n",
    "comp = comp.dropna(subset=col_num)\n",
    "\n",
    "# Made the mean of marks for repeated student codes \n",
    "df_mean = comp.groupby('codi_alumne').agg({\n",
    "    'pcat': 'mean',  \n",
    "    'pcast': 'mean',\n",
    "    'pang': 'mean',\n",
    "    'pmat_nc': 'mean',\n",
    "    'pmat_efm': 'mean',\n",
    "    'pmat_cr': 'mean',\n",
    "    'pmed': 'mean',\n",
    "}).reset_index()\n",
    "\n",
    "# Mostrar el resultat\n",
    "print(df_mean)\n"
   ]
  },
  {
   "cell_type": "code",
   "execution_count": 216,
   "id": "7a78df95-eefa-4d15-a968-ba45230a3314",
   "metadata": {},
   "outputs": [],
   "source": [
    "# Fer el promig de columnes segons la meua classificació de intel·ligències múltiples, separaré segons la classificació"
   ]
  }
 ],
 "metadata": {
  "kernelspec": {
   "display_name": "Python 3 (ipykernel)",
   "language": "python",
   "name": "python3"
  },
  "language_info": {
   "codemirror_mode": {
    "name": "ipython",
    "version": 3
   },
   "file_extension": ".py",
   "mimetype": "text/x-python",
   "name": "python",
   "nbconvert_exporter": "python",
   "pygments_lexer": "ipython3",
   "version": "3.12.4"
  }
 },
 "nbformat": 4,
 "nbformat_minor": 5
}
