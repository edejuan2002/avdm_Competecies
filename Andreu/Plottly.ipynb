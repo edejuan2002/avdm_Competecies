{
 "cells": [
  {
   "cell_type": "code",
   "execution_count": 2,
   "id": "aba6180e",
   "metadata": {},
   "outputs": [],
   "source": [
    "import numpy as np\n",
    "import matplotlib.pyplot as plt\n",
    "import scipy"
   ]
  },
  {
   "cell_type": "code",
   "execution_count": 3,
   "id": "e73c3f18",
   "metadata": {},
   "outputs": [
    {
     "name": "stdout",
     "output_type": "stream",
     "text": [
      "         any codi_alumne   pcat pcat_cl pcat_ee  pcast pcast_cl pcast_ee  \\\n",
      "0       2023  3293538667   82.7   88.64   66.67     92      100    88.89   \n",
      "1       2023  3293527446   73.7   81.82   55.56     81    86.36    72.22   \n",
      "2       2023  3293515234     82   79.55   77.78   88.7    90.91    83.33   \n",
      "3       2023  3293504013   53.5   68.18   22.22   71.8       75    66.67   \n",
      "4       2023  3293493679   37.9   31.82   38.89    NaN      NaN      NaN   \n",
      "...      ...         ...    ...     ...     ...    ...      ...      ...   \n",
      "963028  2009         NaN  45.78   56.82   33.33  51.22    74.42    25.64   \n",
      "963029  2009         NaN   74.7   81.82   66.67  95.12      100    89.74   \n",
      "963030  2009         NaN  84.34     100   66.67  95.12     90.7      100   \n",
      "963031  2009         NaN  61.45   84.09    35.9  69.51    93.02    43.59   \n",
      "963032  2009         NaN  39.76   59.09   17.95  30.49    46.51    12.82   \n",
      "\n",
      "         pmat pmat_nc  ... genere mes_naixement any_naixement  \\\n",
      "0        67.4   85.71  ...      D             6          2011   \n",
      "1        89.4   85.71  ...      H            12          2011   \n",
      "2         100     100  ...      D             8          2011   \n",
      "3        87.2   78.57  ...      D            11          2011   \n",
      "4         NaN     NaN  ...      H             9          2011   \n",
      "...       ...     ...  ...    ...           ...           ...   \n",
      "963028  57.83   57.58  ...      D            12          1997   \n",
      "963029  84.34   90.91  ...      D             9          1997   \n",
      "963030  89.16   87.88  ...      H             8          1997   \n",
      "963031  79.52   90.91  ...      H            12          1996   \n",
      "963032  77.11   75.76  ...      H            10          1997   \n",
      "\n",
      "         area_territorial naturalesa            h_bitat pfran pfran_co  \\\n",
      "0               Tarragona     Privat  De 10001 a 100000   NaN      NaN   \n",
      "1               Tarragona     Privat  De 10001 a 100000   NaN      NaN   \n",
      "2               Tarragona     Privat  De 10001 a 100000   NaN      NaN   \n",
      "3               Tarragona     Privat  De 10001 a 100000   NaN      NaN   \n",
      "4               Tarragona     Privat      Més de 100000   NaN      NaN   \n",
      "...                   ...        ...                ...   ...      ...   \n",
      "963028  Catalunya Central     Públic       Fins a 10000   NaN      NaN   \n",
      "963029  Catalunya Central     Públic       Fins a 10000   NaN      NaN   \n",
      "963030  Catalunya Central     Públic       Fins a 10000   NaN      NaN   \n",
      "963031  Catalunya Central     Públic       Fins a 10000   NaN      NaN   \n",
      "963032  Catalunya Central     Públic       Fins a 10000   NaN      NaN   \n",
      "\n",
      "       pfran_ce pfran_ee  \n",
      "0           NaN      NaN  \n",
      "1           NaN      NaN  \n",
      "2           NaN      NaN  \n",
      "3           NaN      NaN  \n",
      "4           NaN      NaN  \n",
      "...         ...      ...  \n",
      "963028      NaN      NaN  \n",
      "963029      NaN      NaN  \n",
      "963030      NaN      NaN  \n",
      "963031      NaN      NaN  \n",
      "963032      NaN      NaN  \n",
      "\n",
      "[963033 rows x 32 columns]\n"
     ]
    }
   ],
   "source": [
    "import pandas as pd ballesta\n",
    "from sodapy import Socrata\n",
    "\n",
    "# Replace None with your app token \"AVDM_Competencies\" for authenticated access\n",
    "client = Socrata(\"analisi.transparenciacatalunya.cat\", \"m9Y54hwBbAj3B7xBgcCqQEXBa\")\n",
    "\n",
    "# Fetch the first 2000 results as JSON and convert them to a Python list of dictionaries\n",
    "results = client.get(\"rk5x-gny6\",limit=1000000)\n",
    "\n",
    "# Convert to pandas DataFrame\n",
    "sise = pd.DataFrame.from_records(results)\n",
    "\n",
    "# Display the DataFrame\n",
    "print(sise)"
   ]
  },
  {
   "cell_type": "code",
   "execution_count": 4,
   "id": "015996f6",
   "metadata": {},
   "outputs": [
    {
     "name": "stdout",
     "output_type": "stream",
     "text": [
      "         any codi_alumne   pcat pcat_cl pcat_ee  pcast pcast_cl pcast_ee  \\\n",
      "0       2023  3901524245  75.23   73.75   78.13   79.4       74     87.5   \n",
      "1       2023  3903493698  65.61   70.11   59.38  74.55       68    84.38   \n",
      "2       2023  4328915551  38.11   53.71   15.63   50.7       72    18.75   \n",
      "3       2023  3901434261  89.37   90.15    87.5  86.45       92    78.13   \n",
      "4       2023  3900118187  65.56   71.93   56.25  63.35       66    59.38   \n",
      "...      ...         ...    ...     ...     ...    ...      ...      ...   \n",
      "778548  2012         NaN   58.2      68    48.4  63.21    57.67    68.75   \n",
      "778549  2012         NaN   76.3      80    72.6  60.65    80.67    40.63   \n",
      "778550  2012         NaN  74.74      92   57.48  69.04    69.33    68.75   \n",
      "778551  2012         NaN  69.23      84   54.45  77.83    80.67       75   \n",
      "778552  2012         NaN  63.76      64   63.53  74.08    73.17       75   \n",
      "\n",
      "         pang pang_co  ...            h_bitat pfran pfran_co pfran_cl  \\\n",
      "0        78.4      80  ...  De 10001 a 100000   NaN      NaN      NaN   \n",
      "1          74      80  ...  De 10001 a 100000   NaN      NaN      NaN   \n",
      "2          56   53.33  ...  De 10001 a 100000   NaN      NaN      NaN   \n",
      "3        88.8   93.33  ...  De 10001 a 100000   NaN      NaN      NaN   \n",
      "4        66.6   86.67  ...  De 10001 a 100000   NaN      NaN      NaN   \n",
      "...       ...     ...  ...                ...   ...      ...      ...   \n",
      "778548  50.78   73.33  ...      Més de 100000   NaN      NaN      NaN   \n",
      "778549     44      60  ...      Més de 100000   NaN      NaN      NaN   \n",
      "778550  61.33      80  ...      Més de 100000   NaN      NaN      NaN   \n",
      "778551  85.11   93.33  ...      Més de 100000   NaN      NaN      NaN   \n",
      "778552  49.89   66.67  ...      Més de 100000   NaN      NaN      NaN   \n",
      "\n",
      "       pfran_ee pale pale_co pale_cl pale_ee pcien_comp4  \n",
      "0           NaN  NaN     NaN     NaN     NaN         NaN  \n",
      "1           NaN  NaN     NaN     NaN     NaN         NaN  \n",
      "2           NaN  NaN     NaN     NaN     NaN         NaN  \n",
      "3           NaN  NaN     NaN     NaN     NaN         NaN  \n",
      "4           NaN  NaN     NaN     NaN     NaN         NaN  \n",
      "...         ...  ...     ...     ...     ...         ...  \n",
      "778548      NaN  NaN     NaN     NaN     NaN         NaN  \n",
      "778549      NaN  NaN     NaN     NaN     NaN         NaN  \n",
      "778550      NaN  NaN     NaN     NaN     NaN         NaN  \n",
      "778551      NaN  NaN     NaN     NaN     NaN         NaN  \n",
      "778552      NaN  NaN     NaN     NaN     NaN         NaN  \n",
      "\n",
      "[778553 rows x 36 columns]\n"
     ]
    }
   ],
   "source": [
    "import pandas as pd\n",
    "from sodapy import Socrata\n",
    "\n",
    "# Replace None with your app token \"AVDM_Competencies\" for authenticated access\n",
    "client = Socrata(\"analisi.transparenciacatalunya.cat\", \"m9Y54hwBbAj3B7xBgcCqQEXBa\")\n",
    "\n",
    "# Fetch the first 2000 results as JSON and convert them to a Python list of dictionaries\n",
    "results = client.get(\"59vm-wwq7\",limit=1000000)\n",
    "\n",
    "# Convert to pandas DataFrame\n",
    "quart = pd.DataFrame.from_records(results)\n",
    "\n",
    "# Display the DataFrame\n",
    "print(quart)"
   ]
  },
  {
   "cell_type": "code",
   "execution_count": 5,
   "id": "3b4236db",
   "metadata": {},
   "outputs": [
    {
     "name": "stdout",
     "output_type": "stream",
     "text": [
      "80.27099826657587\n"
     ]
    }
   ],
   "source": [
    "# mitjanes de les assignatures seleccionades per cada any començant pel 2009\n",
    "matsise=np.zeros([14])\n",
    "\n",
    "for i in range(2010,2024):\n",
    "    #selecciono l'any d'estudi\n",
    "    an = sise[sise['any'] == str(i)]\n",
    "    \n",
    "    #elimina els NaN\n",
    "    an = an.dropna(how='all')\n",
    "    \n",
    "    #per les diferents proves cal passar els valors que es troben en string a numeric\n",
    "    pmat=pd.to_numeric(an['pmat'], errors='coerce')\n",
    "    #pmed=pd.to_numeric(an['pmed'], errors='coerce')\n",
    "\n",
    "    \n",
    "    #mitjana de cada assigantura\n",
    "    mmat=pmat.mean()\n",
    "    #mmed=pmed.mean()\n",
    "\n",
    "    #array de mitjanes\n",
    "    n=int(i-2010)\n",
    "    matsise[n]=mmat\n",
    "\n",
    "#print(any19.iloc[:,3])\n",
    "\n",
    "matsise=np.array([matsise[0],matsise[1],matsise[2],matsise[3],matsise[4],matsise[5],matsise[6],matsise[7],matsise[8],matsise[9],matsise[11],matsise[12],matsise[13]])\n",
    "print(matsise[2])"
   ]
  },
  {
   "cell_type": "code",
   "execution_count": 6,
   "id": "e16c48fb",
   "metadata": {},
   "outputs": [
    {
     "name": "stdout",
     "output_type": "stream",
     "text": [
      "64.23220896674692\n"
     ]
    }
   ],
   "source": [
    "# mitjanes de les assignatures seleccionades per cada any començant pel 2009\n",
    "matquart=np.zeros([12])\n",
    "\n",
    "for i in range(2012,2024):\n",
    "    #selecciono l'any d'estudi\n",
    "    an = quart[quart['any'] == str(i)]\n",
    "    \n",
    "    #elimina els NaN\n",
    "    an = an.dropna(how='all')\n",
    "    \n",
    "    #per les diferents proves cal passar els valors que es troben en string a numeric\n",
    "    pmat=pd.to_numeric(an['pmat'], errors='coerce')\n",
    "    #pmed=pd.to_numeric(an['pmed'], errors='coerce')\n",
    "\n",
    "    \n",
    "    #mitjana de cada assigantura\n",
    "    mmat=pmat.mean()\n",
    "    #mmed=pmed.mean()\n",
    "\n",
    "    #array de mitjanes\n",
    "    n=int(i-2012)\n",
    "    matquart[n]=mmat\n",
    "\n",
    "#print(any19.iloc[:,3])\n",
    "\n",
    "matquart = np.array([matquart[0], matquart[1], matquart[2], matquart[3], matquart[4], \n",
    "                     matquart[5], matquart[6], matquart[7], matquart[8], matquart[9], matquart[11]])\n",
    "print(matquart[0])"
   ]
  },
  {
   "cell_type": "code",
   "execution_count": 11,
   "id": "9ea785e6",
   "metadata": {},
   "outputs": [
    {
     "data": {
      "application/vnd.plotly.v1+json": {
       "config": {
        "plotlyServerURL": "https://plot.ly"
       },
       "data": [
        {
         "error_y": {
          "array": [
           0.26709103282688074,
           0.2043657616102391,
           0.19151592965457792,
           0.12819768332296608,
           0.25603358944087695,
           0.11370860666007941,
           0.21923840453449103,
           0.24477755338505555,
           0.2263331889319718,
           0.16149897556084575,
           0.1987968081341403
          ],
          "type": "data",
          "visible": true
         },
         "marker": {
          "color": "blue",
          "opacity": 0.8,
          "size": 6
         },
         "mode": "markers",
         "name": "Data Points",
         "type": "scatter",
         "x": [
          2012,
          2013,
          2014,
          2015,
          2016,
          2017,
          2018,
          2019,
          2021,
          2022,
          2023
         ],
         "y": [
          64.23220896674692,
          68.38992621496986,
          69.10077000476619,
          68.66400243246484,
          54.73101317821815,
          70.15525603381519,
          68.45209035246344,
          68.75583594382726,
          70.16924359347699,
          66.675700167601,
          62.30969978976462
         ]
        },
        {
         "error_y": {
          "array": [
           0.26709103282688074,
           0.2043657616102391,
           0.19151592965457792,
           0.12819768332296608,
           0.25603358944087695,
           0.11370860666007941,
           0.21923840453449103,
           0.24477755338505555,
           0.2263331889319718,
           0.16149897556084575,
           0.1987968081341403
          ],
          "type": "data",
          "visible": true
         },
         "marker": {
          "color": "light blue",
          "opacity": 0.8,
          "size": 6
         },
         "mode": "markers",
         "name": "Data Points",
         "type": "scatter",
         "x": [
          2010,
          2011,
          2012,
          2013,
          2014,
          2015,
          2016,
          2017,
          2018,
          2019,
          2021,
          2022,
          2023
         ],
         "y": [
          78.2302728158493,
          80.89832118679752,
          80.27099826657587,
          76.26586190946097,
          81.04462962122929,
          80.00011335195856,
          77.8705713798881,
          77.62723249486368,
          79.23408807359574,
          78.18107418972171,
          76.01889666740601,
          71.12260872540166,
          73.5519784046883
         ]
        }
       ],
       "layout": {
        "font": {
         "size": 14
        },
        "legend": {
         "x": 0.8,
         "y": 0.9
        },
        "template": {
         "data": {
          "bar": [
           {
            "error_x": {
             "color": "#2a3f5f"
            },
            "error_y": {
             "color": "#2a3f5f"
            },
            "marker": {
             "line": {
              "color": "white",
              "width": 0.5
             },
             "pattern": {
              "fillmode": "overlay",
              "size": 10,
              "solidity": 0.2
             }
            },
            "type": "bar"
           }
          ],
          "barpolar": [
           {
            "marker": {
             "line": {
              "color": "white",
              "width": 0.5
             },
             "pattern": {
              "fillmode": "overlay",
              "size": 10,
              "solidity": 0.2
             }
            },
            "type": "barpolar"
           }
          ],
          "carpet": [
           {
            "aaxis": {
             "endlinecolor": "#2a3f5f",
             "gridcolor": "#C8D4E3",
             "linecolor": "#C8D4E3",
             "minorgridcolor": "#C8D4E3",
             "startlinecolor": "#2a3f5f"
            },
            "baxis": {
             "endlinecolor": "#2a3f5f",
             "gridcolor": "#C8D4E3",
             "linecolor": "#C8D4E3",
             "minorgridcolor": "#C8D4E3",
             "startlinecolor": "#2a3f5f"
            },
            "type": "carpet"
           }
          ],
          "choropleth": [
           {
            "colorbar": {
             "outlinewidth": 0,
             "ticks": ""
            },
            "type": "choropleth"
           }
          ],
          "contour": [
           {
            "colorbar": {
             "outlinewidth": 0,
             "ticks": ""
            },
            "colorscale": [
             [
              0,
              "#0d0887"
             ],
             [
              0.1111111111111111,
              "#46039f"
             ],
             [
              0.2222222222222222,
              "#7201a8"
             ],
             [
              0.3333333333333333,
              "#9c179e"
             ],
             [
              0.4444444444444444,
              "#bd3786"
             ],
             [
              0.5555555555555556,
              "#d8576b"
             ],
             [
              0.6666666666666666,
              "#ed7953"
             ],
             [
              0.7777777777777778,
              "#fb9f3a"
             ],
             [
              0.8888888888888888,
              "#fdca26"
             ],
             [
              1,
              "#f0f921"
             ]
            ],
            "type": "contour"
           }
          ],
          "contourcarpet": [
           {
            "colorbar": {
             "outlinewidth": 0,
             "ticks": ""
            },
            "type": "contourcarpet"
           }
          ],
          "heatmap": [
           {
            "colorbar": {
             "outlinewidth": 0,
             "ticks": ""
            },
            "colorscale": [
             [
              0,
              "#0d0887"
             ],
             [
              0.1111111111111111,
              "#46039f"
             ],
             [
              0.2222222222222222,
              "#7201a8"
             ],
             [
              0.3333333333333333,
              "#9c179e"
             ],
             [
              0.4444444444444444,
              "#bd3786"
             ],
             [
              0.5555555555555556,
              "#d8576b"
             ],
             [
              0.6666666666666666,
              "#ed7953"
             ],
             [
              0.7777777777777778,
              "#fb9f3a"
             ],
             [
              0.8888888888888888,
              "#fdca26"
             ],
             [
              1,
              "#f0f921"
             ]
            ],
            "type": "heatmap"
           }
          ],
          "heatmapgl": [
           {
            "colorbar": {
             "outlinewidth": 0,
             "ticks": ""
            },
            "colorscale": [
             [
              0,
              "#0d0887"
             ],
             [
              0.1111111111111111,
              "#46039f"
             ],
             [
              0.2222222222222222,
              "#7201a8"
             ],
             [
              0.3333333333333333,
              "#9c179e"
             ],
             [
              0.4444444444444444,
              "#bd3786"
             ],
             [
              0.5555555555555556,
              "#d8576b"
             ],
             [
              0.6666666666666666,
              "#ed7953"
             ],
             [
              0.7777777777777778,
              "#fb9f3a"
             ],
             [
              0.8888888888888888,
              "#fdca26"
             ],
             [
              1,
              "#f0f921"
             ]
            ],
            "type": "heatmapgl"
           }
          ],
          "histogram": [
           {
            "marker": {
             "pattern": {
              "fillmode": "overlay",
              "size": 10,
              "solidity": 0.2
             }
            },
            "type": "histogram"
           }
          ],
          "histogram2d": [
           {
            "colorbar": {
             "outlinewidth": 0,
             "ticks": ""
            },
            "colorscale": [
             [
              0,
              "#0d0887"
             ],
             [
              0.1111111111111111,
              "#46039f"
             ],
             [
              0.2222222222222222,
              "#7201a8"
             ],
             [
              0.3333333333333333,
              "#9c179e"
             ],
             [
              0.4444444444444444,
              "#bd3786"
             ],
             [
              0.5555555555555556,
              "#d8576b"
             ],
             [
              0.6666666666666666,
              "#ed7953"
             ],
             [
              0.7777777777777778,
              "#fb9f3a"
             ],
             [
              0.8888888888888888,
              "#fdca26"
             ],
             [
              1,
              "#f0f921"
             ]
            ],
            "type": "histogram2d"
           }
          ],
          "histogram2dcontour": [
           {
            "colorbar": {
             "outlinewidth": 0,
             "ticks": ""
            },
            "colorscale": [
             [
              0,
              "#0d0887"
             ],
             [
              0.1111111111111111,
              "#46039f"
             ],
             [
              0.2222222222222222,
              "#7201a8"
             ],
             [
              0.3333333333333333,
              "#9c179e"
             ],
             [
              0.4444444444444444,
              "#bd3786"
             ],
             [
              0.5555555555555556,
              "#d8576b"
             ],
             [
              0.6666666666666666,
              "#ed7953"
             ],
             [
              0.7777777777777778,
              "#fb9f3a"
             ],
             [
              0.8888888888888888,
              "#fdca26"
             ],
             [
              1,
              "#f0f921"
             ]
            ],
            "type": "histogram2dcontour"
           }
          ],
          "mesh3d": [
           {
            "colorbar": {
             "outlinewidth": 0,
             "ticks": ""
            },
            "type": "mesh3d"
           }
          ],
          "parcoords": [
           {
            "line": {
             "colorbar": {
              "outlinewidth": 0,
              "ticks": ""
             }
            },
            "type": "parcoords"
           }
          ],
          "pie": [
           {
            "automargin": true,
            "type": "pie"
           }
          ],
          "scatter": [
           {
            "fillpattern": {
             "fillmode": "overlay",
             "size": 10,
             "solidity": 0.2
            },
            "type": "scatter"
           }
          ],
          "scatter3d": [
           {
            "line": {
             "colorbar": {
              "outlinewidth": 0,
              "ticks": ""
             }
            },
            "marker": {
             "colorbar": {
              "outlinewidth": 0,
              "ticks": ""
             }
            },
            "type": "scatter3d"
           }
          ],
          "scattercarpet": [
           {
            "marker": {
             "colorbar": {
              "outlinewidth": 0,
              "ticks": ""
             }
            },
            "type": "scattercarpet"
           }
          ],
          "scattergeo": [
           {
            "marker": {
             "colorbar": {
              "outlinewidth": 0,
              "ticks": ""
             }
            },
            "type": "scattergeo"
           }
          ],
          "scattergl": [
           {
            "marker": {
             "colorbar": {
              "outlinewidth": 0,
              "ticks": ""
             }
            },
            "type": "scattergl"
           }
          ],
          "scattermapbox": [
           {
            "marker": {
             "colorbar": {
              "outlinewidth": 0,
              "ticks": ""
             }
            },
            "type": "scattermapbox"
           }
          ],
          "scatterpolar": [
           {
            "marker": {
             "colorbar": {
              "outlinewidth": 0,
              "ticks": ""
             }
            },
            "type": "scatterpolar"
           }
          ],
          "scatterpolargl": [
           {
            "marker": {
             "colorbar": {
              "outlinewidth": 0,
              "ticks": ""
             }
            },
            "type": "scatterpolargl"
           }
          ],
          "scatterternary": [
           {
            "marker": {
             "colorbar": {
              "outlinewidth": 0,
              "ticks": ""
             }
            },
            "type": "scatterternary"
           }
          ],
          "surface": [
           {
            "colorbar": {
             "outlinewidth": 0,
             "ticks": ""
            },
            "colorscale": [
             [
              0,
              "#0d0887"
             ],
             [
              0.1111111111111111,
              "#46039f"
             ],
             [
              0.2222222222222222,
              "#7201a8"
             ],
             [
              0.3333333333333333,
              "#9c179e"
             ],
             [
              0.4444444444444444,
              "#bd3786"
             ],
             [
              0.5555555555555556,
              "#d8576b"
             ],
             [
              0.6666666666666666,
              "#ed7953"
             ],
             [
              0.7777777777777778,
              "#fb9f3a"
             ],
             [
              0.8888888888888888,
              "#fdca26"
             ],
             [
              1,
              "#f0f921"
             ]
            ],
            "type": "surface"
           }
          ],
          "table": [
           {
            "cells": {
             "fill": {
              "color": "#EBF0F8"
             },
             "line": {
              "color": "white"
             }
            },
            "header": {
             "fill": {
              "color": "#C8D4E3"
             },
             "line": {
              "color": "white"
             }
            },
            "type": "table"
           }
          ]
         },
         "layout": {
          "annotationdefaults": {
           "arrowcolor": "#2a3f5f",
           "arrowhead": 0,
           "arrowwidth": 1
          },
          "autotypenumbers": "strict",
          "coloraxis": {
           "colorbar": {
            "outlinewidth": 0,
            "ticks": ""
           }
          },
          "colorscale": {
           "diverging": [
            [
             0,
             "#8e0152"
            ],
            [
             0.1,
             "#c51b7d"
            ],
            [
             0.2,
             "#de77ae"
            ],
            [
             0.3,
             "#f1b6da"
            ],
            [
             0.4,
             "#fde0ef"
            ],
            [
             0.5,
             "#f7f7f7"
            ],
            [
             0.6,
             "#e6f5d0"
            ],
            [
             0.7,
             "#b8e186"
            ],
            [
             0.8,
             "#7fbc41"
            ],
            [
             0.9,
             "#4d9221"
            ],
            [
             1,
             "#276419"
            ]
           ],
           "sequential": [
            [
             0,
             "#0d0887"
            ],
            [
             0.1111111111111111,
             "#46039f"
            ],
            [
             0.2222222222222222,
             "#7201a8"
            ],
            [
             0.3333333333333333,
             "#9c179e"
            ],
            [
             0.4444444444444444,
             "#bd3786"
            ],
            [
             0.5555555555555556,
             "#d8576b"
            ],
            [
             0.6666666666666666,
             "#ed7953"
            ],
            [
             0.7777777777777778,
             "#fb9f3a"
            ],
            [
             0.8888888888888888,
             "#fdca26"
            ],
            [
             1,
             "#f0f921"
            ]
           ],
           "sequentialminus": [
            [
             0,
             "#0d0887"
            ],
            [
             0.1111111111111111,
             "#46039f"
            ],
            [
             0.2222222222222222,
             "#7201a8"
            ],
            [
             0.3333333333333333,
             "#9c179e"
            ],
            [
             0.4444444444444444,
             "#bd3786"
            ],
            [
             0.5555555555555556,
             "#d8576b"
            ],
            [
             0.6666666666666666,
             "#ed7953"
            ],
            [
             0.7777777777777778,
             "#fb9f3a"
            ],
            [
             0.8888888888888888,
             "#fdca26"
            ],
            [
             1,
             "#f0f921"
            ]
           ]
          },
          "colorway": [
           "#636efa",
           "#EF553B",
           "#00cc96",
           "#ab63fa",
           "#FFA15A",
           "#19d3f3",
           "#FF6692",
           "#B6E880",
           "#FF97FF",
           "#FECB52"
          ],
          "font": {
           "color": "#2a3f5f"
          },
          "geo": {
           "bgcolor": "white",
           "lakecolor": "white",
           "landcolor": "white",
           "showlakes": true,
           "showland": true,
           "subunitcolor": "#C8D4E3"
          },
          "hoverlabel": {
           "align": "left"
          },
          "hovermode": "closest",
          "mapbox": {
           "style": "light"
          },
          "paper_bgcolor": "white",
          "plot_bgcolor": "white",
          "polar": {
           "angularaxis": {
            "gridcolor": "#EBF0F8",
            "linecolor": "#EBF0F8",
            "ticks": ""
           },
           "bgcolor": "white",
           "radialaxis": {
            "gridcolor": "#EBF0F8",
            "linecolor": "#EBF0F8",
            "ticks": ""
           }
          },
          "scene": {
           "xaxis": {
            "backgroundcolor": "white",
            "gridcolor": "#DFE8F3",
            "gridwidth": 2,
            "linecolor": "#EBF0F8",
            "showbackground": true,
            "ticks": "",
            "zerolinecolor": "#EBF0F8"
           },
           "yaxis": {
            "backgroundcolor": "white",
            "gridcolor": "#DFE8F3",
            "gridwidth": 2,
            "linecolor": "#EBF0F8",
            "showbackground": true,
            "ticks": "",
            "zerolinecolor": "#EBF0F8"
           },
           "zaxis": {
            "backgroundcolor": "white",
            "gridcolor": "#DFE8F3",
            "gridwidth": 2,
            "linecolor": "#EBF0F8",
            "showbackground": true,
            "ticks": "",
            "zerolinecolor": "#EBF0F8"
           }
          },
          "shapedefaults": {
           "line": {
            "color": "#2a3f5f"
           }
          },
          "ternary": {
           "aaxis": {
            "gridcolor": "#DFE8F3",
            "linecolor": "#A2B1C6",
            "ticks": ""
           },
           "baxis": {
            "gridcolor": "#DFE8F3",
            "linecolor": "#A2B1C6",
            "ticks": ""
           },
           "bgcolor": "white",
           "caxis": {
            "gridcolor": "#DFE8F3",
            "linecolor": "#A2B1C6",
            "ticks": ""
           }
          },
          "title": {
           "x": 0.05
          },
          "xaxis": {
           "automargin": true,
           "gridcolor": "#EBF0F8",
           "linecolor": "#EBF0F8",
           "ticks": "",
           "title": {
            "standoff": 15
           },
           "zerolinecolor": "#EBF0F8",
           "zerolinewidth": 2
          },
          "yaxis": {
           "automargin": true,
           "gridcolor": "#EBF0F8",
           "linecolor": "#EBF0F8",
           "ticks": "",
           "title": {
            "standoff": 15
           },
           "zerolinecolor": "#EBF0F8",
           "zerolinewidth": 2
          }
         }
        },
        "title": {
         "text": "Scientific 2D Plot"
        },
        "xaxis": {
         "title": {
          "text": "X-axis (Independent Variable)"
         }
        },
        "yaxis": {
         "title": {
          "text": "Y-axis (Dependent Variable)"
         }
        }
       }
      },
      "text/html": [
       "<div>                            <div id=\"da8dba5f-04ad-48bc-86a9-ea5688d16b88\" class=\"plotly-graph-div\" style=\"height:525px; width:100%;\"></div>            <script type=\"text/javascript\">                require([\"plotly\"], function(Plotly) {                    window.PLOTLYENV=window.PLOTLYENV || {};                                    if (document.getElementById(\"da8dba5f-04ad-48bc-86a9-ea5688d16b88\")) {                    Plotly.newPlot(                        \"da8dba5f-04ad-48bc-86a9-ea5688d16b88\",                        [{\"error_y\":{\"array\":[0.26709103282688074,0.2043657616102391,0.19151592965457792,0.12819768332296608,0.25603358944087695,0.11370860666007941,0.21923840453449103,0.24477755338505555,0.2263331889319718,0.16149897556084575,0.1987968081341403],\"type\":\"data\",\"visible\":true},\"marker\":{\"color\":\"blue\",\"opacity\":0.8,\"size\":6},\"mode\":\"markers\",\"name\":\"Data Points\",\"x\":[2012,2013,2014,2015,2016,2017,2018,2019,2021,2022,2023],\"y\":[64.23220896674692,68.38992621496986,69.10077000476619,68.66400243246484,54.73101317821815,70.15525603381519,68.45209035246344,68.75583594382726,70.16924359347699,66.675700167601,62.30969978976462],\"type\":\"scatter\"},{\"error_y\":{\"array\":[0.26709103282688074,0.2043657616102391,0.19151592965457792,0.12819768332296608,0.25603358944087695,0.11370860666007941,0.21923840453449103,0.24477755338505555,0.2263331889319718,0.16149897556084575,0.1987968081341403],\"type\":\"data\",\"visible\":true},\"marker\":{\"color\":\"light blue\",\"opacity\":0.8,\"size\":6},\"mode\":\"markers\",\"name\":\"Data Points\",\"x\":[2010,2011,2012,2013,2014,2015,2016,2017,2018,2019,2021,2022,2023],\"y\":[78.2302728158493,80.89832118679752,80.27099826657587,76.26586190946097,81.04462962122929,80.00011335195856,77.8705713798881,77.62723249486368,79.23408807359574,78.18107418972171,76.01889666740601,71.12260872540166,73.5519784046883],\"type\":\"scatter\"}],                        {\"template\":{\"data\":{\"barpolar\":[{\"marker\":{\"line\":{\"color\":\"white\",\"width\":0.5},\"pattern\":{\"fillmode\":\"overlay\",\"size\":10,\"solidity\":0.2}},\"type\":\"barpolar\"}],\"bar\":[{\"error_x\":{\"color\":\"#2a3f5f\"},\"error_y\":{\"color\":\"#2a3f5f\"},\"marker\":{\"line\":{\"color\":\"white\",\"width\":0.5},\"pattern\":{\"fillmode\":\"overlay\",\"size\":10,\"solidity\":0.2}},\"type\":\"bar\"}],\"carpet\":[{\"aaxis\":{\"endlinecolor\":\"#2a3f5f\",\"gridcolor\":\"#C8D4E3\",\"linecolor\":\"#C8D4E3\",\"minorgridcolor\":\"#C8D4E3\",\"startlinecolor\":\"#2a3f5f\"},\"baxis\":{\"endlinecolor\":\"#2a3f5f\",\"gridcolor\":\"#C8D4E3\",\"linecolor\":\"#C8D4E3\",\"minorgridcolor\":\"#C8D4E3\",\"startlinecolor\":\"#2a3f5f\"},\"type\":\"carpet\"}],\"choropleth\":[{\"colorbar\":{\"outlinewidth\":0,\"ticks\":\"\"},\"type\":\"choropleth\"}],\"contourcarpet\":[{\"colorbar\":{\"outlinewidth\":0,\"ticks\":\"\"},\"type\":\"contourcarpet\"}],\"contour\":[{\"colorbar\":{\"outlinewidth\":0,\"ticks\":\"\"},\"colorscale\":[[0.0,\"#0d0887\"],[0.1111111111111111,\"#46039f\"],[0.2222222222222222,\"#7201a8\"],[0.3333333333333333,\"#9c179e\"],[0.4444444444444444,\"#bd3786\"],[0.5555555555555556,\"#d8576b\"],[0.6666666666666666,\"#ed7953\"],[0.7777777777777778,\"#fb9f3a\"],[0.8888888888888888,\"#fdca26\"],[1.0,\"#f0f921\"]],\"type\":\"contour\"}],\"heatmapgl\":[{\"colorbar\":{\"outlinewidth\":0,\"ticks\":\"\"},\"colorscale\":[[0.0,\"#0d0887\"],[0.1111111111111111,\"#46039f\"],[0.2222222222222222,\"#7201a8\"],[0.3333333333333333,\"#9c179e\"],[0.4444444444444444,\"#bd3786\"],[0.5555555555555556,\"#d8576b\"],[0.6666666666666666,\"#ed7953\"],[0.7777777777777778,\"#fb9f3a\"],[0.8888888888888888,\"#fdca26\"],[1.0,\"#f0f921\"]],\"type\":\"heatmapgl\"}],\"heatmap\":[{\"colorbar\":{\"outlinewidth\":0,\"ticks\":\"\"},\"colorscale\":[[0.0,\"#0d0887\"],[0.1111111111111111,\"#46039f\"],[0.2222222222222222,\"#7201a8\"],[0.3333333333333333,\"#9c179e\"],[0.4444444444444444,\"#bd3786\"],[0.5555555555555556,\"#d8576b\"],[0.6666666666666666,\"#ed7953\"],[0.7777777777777778,\"#fb9f3a\"],[0.8888888888888888,\"#fdca26\"],[1.0,\"#f0f921\"]],\"type\":\"heatmap\"}],\"histogram2dcontour\":[{\"colorbar\":{\"outlinewidth\":0,\"ticks\":\"\"},\"colorscale\":[[0.0,\"#0d0887\"],[0.1111111111111111,\"#46039f\"],[0.2222222222222222,\"#7201a8\"],[0.3333333333333333,\"#9c179e\"],[0.4444444444444444,\"#bd3786\"],[0.5555555555555556,\"#d8576b\"],[0.6666666666666666,\"#ed7953\"],[0.7777777777777778,\"#fb9f3a\"],[0.8888888888888888,\"#fdca26\"],[1.0,\"#f0f921\"]],\"type\":\"histogram2dcontour\"}],\"histogram2d\":[{\"colorbar\":{\"outlinewidth\":0,\"ticks\":\"\"},\"colorscale\":[[0.0,\"#0d0887\"],[0.1111111111111111,\"#46039f\"],[0.2222222222222222,\"#7201a8\"],[0.3333333333333333,\"#9c179e\"],[0.4444444444444444,\"#bd3786\"],[0.5555555555555556,\"#d8576b\"],[0.6666666666666666,\"#ed7953\"],[0.7777777777777778,\"#fb9f3a\"],[0.8888888888888888,\"#fdca26\"],[1.0,\"#f0f921\"]],\"type\":\"histogram2d\"}],\"histogram\":[{\"marker\":{\"pattern\":{\"fillmode\":\"overlay\",\"size\":10,\"solidity\":0.2}},\"type\":\"histogram\"}],\"mesh3d\":[{\"colorbar\":{\"outlinewidth\":0,\"ticks\":\"\"},\"type\":\"mesh3d\"}],\"parcoords\":[{\"line\":{\"colorbar\":{\"outlinewidth\":0,\"ticks\":\"\"}},\"type\":\"parcoords\"}],\"pie\":[{\"automargin\":true,\"type\":\"pie\"}],\"scatter3d\":[{\"line\":{\"colorbar\":{\"outlinewidth\":0,\"ticks\":\"\"}},\"marker\":{\"colorbar\":{\"outlinewidth\":0,\"ticks\":\"\"}},\"type\":\"scatter3d\"}],\"scattercarpet\":[{\"marker\":{\"colorbar\":{\"outlinewidth\":0,\"ticks\":\"\"}},\"type\":\"scattercarpet\"}],\"scattergeo\":[{\"marker\":{\"colorbar\":{\"outlinewidth\":0,\"ticks\":\"\"}},\"type\":\"scattergeo\"}],\"scattergl\":[{\"marker\":{\"colorbar\":{\"outlinewidth\":0,\"ticks\":\"\"}},\"type\":\"scattergl\"}],\"scattermapbox\":[{\"marker\":{\"colorbar\":{\"outlinewidth\":0,\"ticks\":\"\"}},\"type\":\"scattermapbox\"}],\"scatterpolargl\":[{\"marker\":{\"colorbar\":{\"outlinewidth\":0,\"ticks\":\"\"}},\"type\":\"scatterpolargl\"}],\"scatterpolar\":[{\"marker\":{\"colorbar\":{\"outlinewidth\":0,\"ticks\":\"\"}},\"type\":\"scatterpolar\"}],\"scatter\":[{\"fillpattern\":{\"fillmode\":\"overlay\",\"size\":10,\"solidity\":0.2},\"type\":\"scatter\"}],\"scatterternary\":[{\"marker\":{\"colorbar\":{\"outlinewidth\":0,\"ticks\":\"\"}},\"type\":\"scatterternary\"}],\"surface\":[{\"colorbar\":{\"outlinewidth\":0,\"ticks\":\"\"},\"colorscale\":[[0.0,\"#0d0887\"],[0.1111111111111111,\"#46039f\"],[0.2222222222222222,\"#7201a8\"],[0.3333333333333333,\"#9c179e\"],[0.4444444444444444,\"#bd3786\"],[0.5555555555555556,\"#d8576b\"],[0.6666666666666666,\"#ed7953\"],[0.7777777777777778,\"#fb9f3a\"],[0.8888888888888888,\"#fdca26\"],[1.0,\"#f0f921\"]],\"type\":\"surface\"}],\"table\":[{\"cells\":{\"fill\":{\"color\":\"#EBF0F8\"},\"line\":{\"color\":\"white\"}},\"header\":{\"fill\":{\"color\":\"#C8D4E3\"},\"line\":{\"color\":\"white\"}},\"type\":\"table\"}]},\"layout\":{\"annotationdefaults\":{\"arrowcolor\":\"#2a3f5f\",\"arrowhead\":0,\"arrowwidth\":1},\"autotypenumbers\":\"strict\",\"coloraxis\":{\"colorbar\":{\"outlinewidth\":0,\"ticks\":\"\"}},\"colorscale\":{\"diverging\":[[0,\"#8e0152\"],[0.1,\"#c51b7d\"],[0.2,\"#de77ae\"],[0.3,\"#f1b6da\"],[0.4,\"#fde0ef\"],[0.5,\"#f7f7f7\"],[0.6,\"#e6f5d0\"],[0.7,\"#b8e186\"],[0.8,\"#7fbc41\"],[0.9,\"#4d9221\"],[1,\"#276419\"]],\"sequential\":[[0.0,\"#0d0887\"],[0.1111111111111111,\"#46039f\"],[0.2222222222222222,\"#7201a8\"],[0.3333333333333333,\"#9c179e\"],[0.4444444444444444,\"#bd3786\"],[0.5555555555555556,\"#d8576b\"],[0.6666666666666666,\"#ed7953\"],[0.7777777777777778,\"#fb9f3a\"],[0.8888888888888888,\"#fdca26\"],[1.0,\"#f0f921\"]],\"sequentialminus\":[[0.0,\"#0d0887\"],[0.1111111111111111,\"#46039f\"],[0.2222222222222222,\"#7201a8\"],[0.3333333333333333,\"#9c179e\"],[0.4444444444444444,\"#bd3786\"],[0.5555555555555556,\"#d8576b\"],[0.6666666666666666,\"#ed7953\"],[0.7777777777777778,\"#fb9f3a\"],[0.8888888888888888,\"#fdca26\"],[1.0,\"#f0f921\"]]},\"colorway\":[\"#636efa\",\"#EF553B\",\"#00cc96\",\"#ab63fa\",\"#FFA15A\",\"#19d3f3\",\"#FF6692\",\"#B6E880\",\"#FF97FF\",\"#FECB52\"],\"font\":{\"color\":\"#2a3f5f\"},\"geo\":{\"bgcolor\":\"white\",\"lakecolor\":\"white\",\"landcolor\":\"white\",\"showlakes\":true,\"showland\":true,\"subunitcolor\":\"#C8D4E3\"},\"hoverlabel\":{\"align\":\"left\"},\"hovermode\":\"closest\",\"mapbox\":{\"style\":\"light\"},\"paper_bgcolor\":\"white\",\"plot_bgcolor\":\"white\",\"polar\":{\"angularaxis\":{\"gridcolor\":\"#EBF0F8\",\"linecolor\":\"#EBF0F8\",\"ticks\":\"\"},\"bgcolor\":\"white\",\"radialaxis\":{\"gridcolor\":\"#EBF0F8\",\"linecolor\":\"#EBF0F8\",\"ticks\":\"\"}},\"scene\":{\"xaxis\":{\"backgroundcolor\":\"white\",\"gridcolor\":\"#DFE8F3\",\"gridwidth\":2,\"linecolor\":\"#EBF0F8\",\"showbackground\":true,\"ticks\":\"\",\"zerolinecolor\":\"#EBF0F8\"},\"yaxis\":{\"backgroundcolor\":\"white\",\"gridcolor\":\"#DFE8F3\",\"gridwidth\":2,\"linecolor\":\"#EBF0F8\",\"showbackground\":true,\"ticks\":\"\",\"zerolinecolor\":\"#EBF0F8\"},\"zaxis\":{\"backgroundcolor\":\"white\",\"gridcolor\":\"#DFE8F3\",\"gridwidth\":2,\"linecolor\":\"#EBF0F8\",\"showbackground\":true,\"ticks\":\"\",\"zerolinecolor\":\"#EBF0F8\"}},\"shapedefaults\":{\"line\":{\"color\":\"#2a3f5f\"}},\"ternary\":{\"aaxis\":{\"gridcolor\":\"#DFE8F3\",\"linecolor\":\"#A2B1C6\",\"ticks\":\"\"},\"baxis\":{\"gridcolor\":\"#DFE8F3\",\"linecolor\":\"#A2B1C6\",\"ticks\":\"\"},\"bgcolor\":\"white\",\"caxis\":{\"gridcolor\":\"#DFE8F3\",\"linecolor\":\"#A2B1C6\",\"ticks\":\"\"}},\"title\":{\"x\":0.05},\"xaxis\":{\"automargin\":true,\"gridcolor\":\"#EBF0F8\",\"linecolor\":\"#EBF0F8\",\"ticks\":\"\",\"title\":{\"standoff\":15},\"zerolinecolor\":\"#EBF0F8\",\"zerolinewidth\":2},\"yaxis\":{\"automargin\":true,\"gridcolor\":\"#EBF0F8\",\"linecolor\":\"#EBF0F8\",\"ticks\":\"\",\"title\":{\"standoff\":15},\"zerolinecolor\":\"#EBF0F8\",\"zerolinewidth\":2}}},\"legend\":{\"x\":0.8,\"y\":0.9},\"font\":{\"size\":14},\"title\":{\"text\":\"Scientific 2D Plot\"},\"xaxis\":{\"title\":{\"text\":\"X-axis (Independent Variable)\"}},\"yaxis\":{\"title\":{\"text\":\"Y-axis (Dependent Variable)\"}}},                        {\"responsive\": true}                    ).then(function(){\n",
       "                            \n",
       "var gd = document.getElementById('da8dba5f-04ad-48bc-86a9-ea5688d16b88');\n",
       "var x = new MutationObserver(function (mutations, observer) {{\n",
       "        var display = window.getComputedStyle(gd).display;\n",
       "        if (!display || display === 'none') {{\n",
       "            console.log([gd, 'removed!']);\n",
       "            Plotly.purge(gd);\n",
       "            observer.disconnect();\n",
       "        }}\n",
       "}});\n",
       "\n",
       "// Listen for the removal of the full notebook cells\n",
       "var notebookContainer = gd.closest('#notebook-container');\n",
       "if (notebookContainer) {{\n",
       "    x.observe(notebookContainer, {childList: true});\n",
       "}}\n",
       "\n",
       "// Listen for the clearing of the current output cell\n",
       "var outputEl = gd.closest('.output');\n",
       "if (outputEl) {{\n",
       "    x.observe(outputEl, {childList: true});\n",
       "}}\n",
       "\n",
       "                        })                };                });            </script>        </div>"
      ]
     },
     "metadata": {},
     "output_type": "display_data"
    }
   ],
   "source": [
    "import plotly.graph_objects as go\n",
    "import numpy as np\n",
    "\n",
    "# Example data\n",
    "x = anys4\n",
    "y = matquart  # Noisy sine wave\n",
    "error_y = np.random.uniform(0.1, 0.3, size=len(x))  # Random error\n",
    "\n",
    "# Create a figure\n",
    "fig = go.Figure()\n",
    "\n",
    "# Add scatter plot with error bars\n",
    "fig.add_trace(go.Scatter(\n",
    "    x=x,\n",
    "    y=y,\n",
    "    error_y=dict(\n",
    "        type='data',  # Use the provided error values\n",
    "        array=error_y,\n",
    "        visible=True\n",
    "    ),\n",
    "    mode='markers',\n",
    "    name='Data Points',\n",
    "    marker=dict(size=6, color='blue', opacity=0.8)\n",
    "))\n",
    "\n",
    "fig.add_trace(go.Scatter(\n",
    "    x=anys6,\n",
    "    y=matsise,\n",
    "    error_y=dict(\n",
    "        type='data',  # Use the provided error values\n",
    "        array=error_y,\n",
    "        visible=True\n",
    "    ),\n",
    "    mode='markers',\n",
    "    name='Data Points',\n",
    "    marker=dict(size=6, color='light blue', opacity=0.8)\n",
    "))\n",
    "\n",
    "\n",
    "# Customize layout for scientific styling\n",
    "fig.update_layout(\n",
    "    title='Scientific 2D Plot',\n",
    "    xaxis_title='X-axis (Independent Variable)',\n",
    "    yaxis_title='Y-axis (Dependent Variable)',\n",
    "    template='plotly_white',  # Scientific-style template\n",
    "    legend=dict(x=0.8, y=0.9),\n",
    "    font=dict(size=14),\n",
    ")\n",
    "\n",
    "# Show the plot\n",
    "fig.show()"
   ]
  },
  {
   "cell_type": "code",
   "execution_count": null,
   "id": "931aaf89",
   "metadata": {},
   "outputs": [],
   "source": []
  }
 ],
 "metadata": {
  "kernelspec": {
   "display_name": "kernel1",
   "language": "python",
   "name": "kernel1"
  },
  "language_info": {
   "codemirror_mode": {
    "name": "ipython",
    "version": 3
   },
   "file_extension": ".py",
   "mimetype": "text/x-python",
   "name": "python",
   "nbconvert_exporter": "python",
   "pygments_lexer": "ipython3",
   "version": "3.9.20"
  }
 },
 "nbformat": 4,
 "nbformat_minor": 5
}
