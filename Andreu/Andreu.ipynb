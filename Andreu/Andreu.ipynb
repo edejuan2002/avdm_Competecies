{
 "cells": [
  {
   "cell_type": "code",
   "execution_count": null,
   "id": "d6edb22f",
   "metadata": {},
   "outputs": [],
   "source": [
    "Sisè de primaria"
   ]
  },
  {
   "cell_type": "code",
   "execution_count": 12,
   "id": "e33bcd83",
   "metadata": {},
   "outputs": [],
   "source": [
    "import numpy as np\n",
    "import matplotlib.pyplot as plt\n",
    "import scipy\n",
    "from scipy.optimize import curve_fitgit "
   ]
  },
  {
   "cell_type": "code",
   "execution_count": 38,
   "id": "8f436fa5",
   "metadata": {},
   "outputs": [
    {
     "name": "stdout",
     "output_type": "stream",
     "text": [
      "         any codi_alumne   pcat pcat_cl pcat_ee  pcast pcast_cl pcast_ee  \\\n",
      "0       2023  3293538667   82.7   88.64   66.67     92      100    88.89   \n",
      "1       2023  3293527446   73.7   81.82   55.56     81    86.36    72.22   \n",
      "2       2023  3293515234     82   79.55   77.78   88.7    90.91    83.33   \n",
      "3       2023  3293504013   53.5   68.18   22.22   71.8       75    66.67   \n",
      "4       2023  3293493679   37.9   31.82   38.89    NaN      NaN      NaN   \n",
      "...      ...         ...    ...     ...     ...    ...      ...      ...   \n",
      "963028  2009         NaN  45.78   56.82   33.33  51.22    74.42    25.64   \n",
      "963029  2009         NaN   74.7   81.82   66.67  95.12      100    89.74   \n",
      "963030  2009         NaN  84.34     100   66.67  95.12     90.7      100   \n",
      "963031  2009         NaN  61.45   84.09    35.9  69.51    93.02    43.59   \n",
      "963032  2009         NaN  39.76   59.09   17.95  30.49    46.51    12.82   \n",
      "\n",
      "         pmat pmat_nc  ... genere mes_naixement any_naixement  \\\n",
      "0        67.4   85.71  ...      D             6          2011   \n",
      "1        89.4   85.71  ...      H            12          2011   \n",
      "2         100     100  ...      D             8          2011   \n",
      "3        87.2   78.57  ...      D            11          2011   \n",
      "4         NaN     NaN  ...      H             9          2011   \n",
      "...       ...     ...  ...    ...           ...           ...   \n",
      "963028  57.83   57.58  ...      D            12          1997   \n",
      "963029  84.34   90.91  ...      D             9          1997   \n",
      "963030  89.16   87.88  ...      H             8          1997   \n",
      "963031  79.52   90.91  ...      H            12          1996   \n",
      "963032  77.11   75.76  ...      H            10          1997   \n",
      "\n",
      "         area_territorial naturalesa            h_bitat pfran pfran_co  \\\n",
      "0               Tarragona     Privat  De 10001 a 100000   NaN      NaN   \n",
      "1               Tarragona     Privat  De 10001 a 100000   NaN      NaN   \n",
      "2               Tarragona     Privat  De 10001 a 100000   NaN      NaN   \n",
      "3               Tarragona     Privat  De 10001 a 100000   NaN      NaN   \n",
      "4               Tarragona     Privat      Més de 100000   NaN      NaN   \n",
      "...                   ...        ...                ...   ...      ...   \n",
      "963028  Catalunya Central     Públic       Fins a 10000   NaN      NaN   \n",
      "963029  Catalunya Central     Públic       Fins a 10000   NaN      NaN   \n",
      "963030  Catalunya Central     Públic       Fins a 10000   NaN      NaN   \n",
      "963031  Catalunya Central     Públic       Fins a 10000   NaN      NaN   \n",
      "963032  Catalunya Central     Públic       Fins a 10000   NaN      NaN   \n",
      "\n",
      "       pfran_ce pfran_ee  \n",
      "0           NaN      NaN  \n",
      "1           NaN      NaN  \n",
      "2           NaN      NaN  \n",
      "3           NaN      NaN  \n",
      "4           NaN      NaN  \n",
      "...         ...      ...  \n",
      "963028      NaN      NaN  \n",
      "963029      NaN      NaN  \n",
      "963030      NaN      NaN  \n",
      "963031      NaN      NaN  \n",
      "963032      NaN      NaN  \n",
      "\n",
      "[963033 rows x 32 columns]\n"
     ]
    }
   ],
   "source": [
    "import pandas as pd\n",
    "from sodapy import Socrata\n",
    "\n",
    "# Replace None with your app token \"AVDM_Competencies\" for authenticated access\n",
    "client = Socrata(\"analisi.transparenciacatalunya.cat\", \"m9Y54hwBbAj3B7xBgcCqQEXBa\")\n",
    "\n",
    "# Fetch the first 2000 results as JSON and convert them to a Python list of dictionaries\n",
    "results = client.get(\"rk5x-gny6\",limit=1000000)\n",
    "\n",
    "# Convert to pandas DataFrame\n",
    "sise = pd.DataFrame.from_records(results)\n",
    "\n",
    "# Display the DataFrame\n",
    "print(sise)"
   ]
  },
  {
   "cell_type": "code",
   "execution_count": 39,
   "id": "b0ed44d1",
   "metadata": {},
   "outputs": [
    {
     "name": "stdout",
     "output_type": "stream",
     "text": [
      "         any codi_alumne   pcat  pcast   pang   pmat   pmed\n",
      "0       2023  3293538667   82.7     92    100   67.4  61.39\n",
      "1       2023  3293527446   73.7     81  95.17   89.4  88.33\n",
      "2       2023  3293515234     82   88.7   93.5    100  96.67\n",
      "3       2023  3293504013   53.5   71.8  86.83   87.2  70.28\n",
      "4       2023  3293493679   37.9    NaN    NaN    NaN  27.78\n",
      "...      ...         ...    ...    ...    ...    ...    ...\n",
      "963028  2009         NaN  45.78  51.22    NaN  57.83    NaN\n",
      "963029  2009         NaN   74.7  95.12    NaN  84.34    NaN\n",
      "963030  2009         NaN  84.34  95.12    NaN  89.16    NaN\n",
      "963031  2009         NaN  61.45  69.51    NaN  79.52    NaN\n",
      "963032  2009         NaN  39.76  30.49    NaN  77.11    NaN\n",
      "\n",
      "[963033 rows x 7 columns]\n"
     ]
    }
   ],
   "source": [
    "# Select specific columns\n",
    "sise = sise[['any','codi_alumne','pcat', 'pcast', 'pang', 'pmat', 'pmed']]\n",
    "\n",
    "print(sise)"
   ]
  },
  {
   "cell_type": "code",
   "execution_count": 40,
   "id": "5e579f79",
   "metadata": {},
   "outputs": [
    {
     "name": "stdout",
     "output_type": "stream",
     "text": [
      "[74792 74207 72036 71244 69526 66908 65598]\n"
     ]
    }
   ],
   "source": [
    "# Count how many times each object appears in the column\n",
    "value_counts = sise['any'].value_counts()\n",
    "\n",
    "# To count the number of occurrences of a specific object (e.g., 'apple')\n",
    "count23 = value_counts.get('2023', 0)  # Defaults to 0 if 'apple' isn't in the column\n",
    "count22 = value_counts.get('2022', 0)  # Defaults to 0 if 'apple' isn't in the column\n",
    "count21 = value_counts.get('2021', 0)  # Defaults to 0 if 'apple' isn't in the column\n",
    "count20 = value_counts.get('2020', 0)  # Defaults to 0 if 'apple' isn't in the column\n",
    "count19 = value_counts.get('2019', 0)  # Defaults to 0 if 'apple' isn't in the column\n",
    "count18 = value_counts.get('2018', 0)  # Defaults to 0 if 'apple' isn't in the column\n",
    "count17 = value_counts.get('2017', 0)  # Defaults to 0 if 'apple' isn't in the column\n",
    "count16 = value_counts.get('2016', 0)  # Defaults to 0 if 'apple' isn't in the column\n",
    "count15 = value_counts.get('2015', 0)  # Defaults to 0 if 'apple' isn't in the column\n",
    "count14 = value_counts.get('2014', 0)  # Defaults to 0 if 'apple' isn't in the column\n",
    "count13 = value_counts.get('2013', 0)  # Defaults to 0 if 'apple' isn't in the column\n",
    "\n",
    "count6=np.array([count19,count18,count17,count16,count15,count14,count13])\n",
    "\n",
    "print(count6)"
   ]
  },
  {
   "cell_type": "code",
   "execution_count": 91,
   "id": "908b8100",
   "metadata": {},
   "outputs": [
    {
     "name": "stdout",
     "output_type": "stream",
     "text": [
      "[[73.65127923 71.18704022 71.37677347 78.23027282 71.37677347]\n",
      " [77.19818012 73.58237366 80.587098   80.89832119 80.587098  ]\n",
      " [79.66834068 76.62047947 74.30327956 80.27099827 74.30327956]\n",
      " [71.09451103 73.02916718 72.9923096  76.26586191 72.9923096 ]\n",
      " [75.55872021 75.41799631 75.18870689 81.04462962 75.18870689]\n",
      " [74.47592463 75.5943331  74.42300664 80.00011335 74.42300664]\n",
      " [74.54511527 74.05539365 73.93830321 77.87057138 73.93830321]\n",
      " [75.86877702 74.29946717 79.97269521 77.62723249 79.97269521]\n",
      " [73.56137572 76.99460305 76.27108357 79.23408807 76.27108357]\n",
      " [75.45656315 74.43666766 78.19418454 78.18107419 78.19418454]]\n"
     ]
    }
   ],
   "source": [
    "# mitjanes de les assignatures seleccionades per cada any començant pel 2009\n",
    "msise=np.zeros([10,5])\n",
    "\n",
    "for i in range(2010,2020):\n",
    "    #selecciono l'any d'estudi\n",
    "    an = sise[sise['any'] == str(i)]\n",
    "\n",
    "    #per les diferents proves cal passar els valors que es troben en string a numeric\n",
    "    pcat=pd.to_numeric(an['pcat'], errors='coerce')\n",
    "    pcast=pd.to_numeric(an['pcast'], errors='coerce')\n",
    "    pang=pd.to_numeric(an['pang'], errors='coerce')\n",
    "    pmat=pd.to_numeric(an['pmat'], errors='coerce')\n",
    "    pmed=pd.to_numeric(an['pmed'], errors='coerce')\n",
    "\n",
    "    #elimina els NaN\n",
    "    an = an.dropna()\n",
    "\n",
    "    #mitjana de cada assigantura\n",
    "    mcat=pcat.mean()\n",
    "    mcast=pcast.mean()\n",
    "    mang=pang.mean()\n",
    "    mmat=pmat.mean()\n",
    "    mmed=pang.mean()\n",
    "\n",
    "    #array de mitjanes\n",
    "    mi=np.array([mcat,mcast,mang,mmat,mmed])\n",
    "    n=int(i-2010)\n",
    "    msise[n]=mi\n",
    "\n",
    "#print(any19.iloc[4])\n",
    "\n",
    "\n",
    "print(msise)"
   ]
  },
  {
   "cell_type": "markdown",
   "id": "8bc4be37",
   "metadata": {},
   "source": [
    "Quart de la ESO"
   ]
  },
  {
   "cell_type": "code",
   "execution_count": 86,
   "id": "e3076739",
   "metadata": {},
   "outputs": [
    {
     "name": "stdout",
     "output_type": "stream",
     "text": [
      "         any codi_alumne   pcat pcat_cl pcat_ee  pcast pcast_cl pcast_ee  \\\n",
      "0       2023  3901524245  75.23   73.75   78.13   79.4       74     87.5   \n",
      "1       2023  3903493698  65.61   70.11   59.38  74.55       68    84.38   \n",
      "2       2023  4328915551  38.11   53.71   15.63   50.7       72    18.75   \n",
      "3       2023  3901434261  89.37   90.15    87.5  86.45       92    78.13   \n",
      "4       2023  3900118187  65.56   71.93   56.25  63.35       66    59.38   \n",
      "...      ...         ...    ...     ...     ...    ...      ...      ...   \n",
      "778548  2012         NaN   58.2      68    48.4  63.21    57.67    68.75   \n",
      "778549  2012         NaN   76.3      80    72.6  60.65    80.67    40.63   \n",
      "778550  2012         NaN  74.74      92   57.48  69.04    69.33    68.75   \n",
      "778551  2012         NaN  69.23      84   54.45  77.83    80.67       75   \n",
      "778552  2012         NaN  63.76      64   63.53  74.08    73.17       75   \n",
      "\n",
      "         pang pang_co  ...            h_bitat pfran pfran_co pfran_cl  \\\n",
      "0        78.4      80  ...  De 10001 a 100000   NaN      NaN      NaN   \n",
      "1          74      80  ...  De 10001 a 100000   NaN      NaN      NaN   \n",
      "2          56   53.33  ...  De 10001 a 100000   NaN      NaN      NaN   \n",
      "3        88.8   93.33  ...  De 10001 a 100000   NaN      NaN      NaN   \n",
      "4        66.6   86.67  ...  De 10001 a 100000   NaN      NaN      NaN   \n",
      "...       ...     ...  ...                ...   ...      ...      ...   \n",
      "778548  50.78   73.33  ...      Més de 100000   NaN      NaN      NaN   \n",
      "778549     44      60  ...      Més de 100000   NaN      NaN      NaN   \n",
      "778550  61.33      80  ...      Més de 100000   NaN      NaN      NaN   \n",
      "778551  85.11   93.33  ...      Més de 100000   NaN      NaN      NaN   \n",
      "778552  49.89   66.67  ...      Més de 100000   NaN      NaN      NaN   \n",
      "\n",
      "       pfran_ee pale pale_co pale_cl pale_ee pcien_comp4  \n",
      "0           NaN  NaN     NaN     NaN     NaN         NaN  \n",
      "1           NaN  NaN     NaN     NaN     NaN         NaN  \n",
      "2           NaN  NaN     NaN     NaN     NaN         NaN  \n",
      "3           NaN  NaN     NaN     NaN     NaN         NaN  \n",
      "4           NaN  NaN     NaN     NaN     NaN         NaN  \n",
      "...         ...  ...     ...     ...     ...         ...  \n",
      "778548      NaN  NaN     NaN     NaN     NaN         NaN  \n",
      "778549      NaN  NaN     NaN     NaN     NaN         NaN  \n",
      "778550      NaN  NaN     NaN     NaN     NaN         NaN  \n",
      "778551      NaN  NaN     NaN     NaN     NaN         NaN  \n",
      "778552      NaN  NaN     NaN     NaN     NaN         NaN  \n",
      "\n",
      "[778553 rows x 36 columns]\n"
     ]
    }
   ],
   "source": [
    "import pandas as pd\n",
    "from sodapy import Socrata\n",
    "\n",
    "# Replace None with your app token \"AVDM_Competencies\" for authenticated access\n",
    "client = Socrata(\"analisi.transparenciacatalunya.cat\", \"m9Y54hwBbAj3B7xBgcCqQEXBa\")\n",
    "\n",
    "# Fetch the first 2000 results as JSON and convert them to a Python list of dictionaries\n",
    "results = client.get(\"59vm-wwq7\",limit=1000000)\n",
    "\n",
    "# Convert to pandas DataFrame\n",
    "quart = pd.DataFrame.from_records(results)\n",
    "\n",
    "# Display the DataFrame\n",
    "print(quart)"
   ]
  },
  {
   "cell_type": "code",
   "execution_count": 89,
   "id": "705e5fda",
   "metadata": {},
   "outputs": [
    {
     "name": "stdout",
     "output_type": "stream",
     "text": [
      "         any codi_alumne   pcat  pcast   pang   pmat  pcien\n",
      "0       2023  3901524245  75.23   79.4   78.4  80.81   82.7\n",
      "1       2023  3903493698  65.61  74.55     74  66.06  77.27\n",
      "2       2023  4328915551  38.11   50.7     56  31.69  50.51\n",
      "3       2023  3901434261  89.37  86.45   88.8  90.56  84.34\n",
      "4       2023  3900118187  65.56  63.35   66.6  42.36  62.75\n",
      "...      ...         ...    ...    ...    ...    ...    ...\n",
      "778548  2012         NaN   58.2  63.21  50.78   74.8    NaN\n",
      "778549  2012         NaN   76.3  60.65     44   83.8    NaN\n",
      "778550  2012         NaN  74.74  69.04  61.33   64.9    NaN\n",
      "778551  2012         NaN  69.23  77.83  85.11   89.5    NaN\n",
      "778552  2012         NaN  63.76  74.08  49.89   75.6    NaN\n",
      "\n",
      "[778553 rows x 7 columns]\n"
     ]
    }
   ],
   "source": [
    "# Select specific columns\n",
    "quart = quart[['any','codi_alumne','pcat', 'pcast', 'pang', 'pmat', 'pcien']]\n",
    "\n",
    "print(quart)"
   ]
  },
  {
   "cell_type": "code",
   "execution_count": 96,
   "id": "82eff5cd",
   "metadata": {},
   "outputs": [
    {
     "name": "stdout",
     "output_type": "stream",
     "text": [
      "[[77.13919146 76.39128032 66.85929037 69.10077    66.85929037]\n",
      " [71.78126747 75.14630959 69.28335208 68.66400243 69.28335208]\n",
      " [76.91410726 76.54853103 68.21337541 54.73101318 68.21337541]\n",
      " [74.56677417 77.24299503 74.14934108 70.15525603 74.14934108]\n",
      " [76.8166494  77.23828322 73.8890618  68.45209035 73.8890618 ]\n",
      " [77.5350502  78.5818933  74.08777653 68.75583594 74.08777653]\n",
      " [74.05019043 77.87794556 74.6744422  70.16924359 74.6744422 ]\n",
      " [76.48963662 78.06273372 70.48566276 66.67570017 70.48566276]\n",
      " [74.13762335 75.22558857 68.37993561 61.14603951 68.37993561]\n",
      " [72.31970247 71.65463187 73.88121071 62.30969979 73.88121071]]\n"
     ]
    }
   ],
   "source": [
    "# mitjanes de les assignatures seleccionades per cada any començant pel 2009\n",
    "mquart=np.zeros([10,5])\n",
    "\n",
    "for i in range(2014,2024):\n",
    "    #selecciono l'any d'estudi\n",
    "    an = quart[quart['any'] == str(i)]\n",
    "\n",
    "    #per les diferents proves cal passar els valors que es troben en string a numeric\n",
    "    pcat=pd.to_numeric(an['pcat'], errors='coerce')\n",
    "    pcast=pd.to_numeric(an['pcast'], errors='coerce')\n",
    "    pang=pd.to_numeric(an['pang'], errors='coerce')\n",
    "    pmat=pd.to_numeric(an['pmat'], errors='coerce')\n",
    "    pmed=pd.to_numeric(an['pcien'], errors='coerce')\n",
    "\n",
    "    #elimina els NaN\n",
    "    an = an.dropna()\n",
    "\n",
    "    #mitjana de cada assigantura\n",
    "    mcat=pcat.mean()\n",
    "    mcast=pcast.mean()\n",
    "    mang=pang.mean()\n",
    "    mmat=pmat.mean()\n",
    "    mmed=pang.mean()\n",
    "\n",
    "    #array de mitjanes\n",
    "    mi=np.array([mcat,mcast,mang,mmat,mmed])\n",
    "    n=int(i-2014)\n",
    "    mquart[n]=mi\n",
    "\n",
    "#print(any19.iloc[4])\n",
    "\n",
    "\n",
    "print(mquart)"
   ]
  },
  {
   "cell_type": "code",
   "execution_count": null,
   "id": "7fecf81e",
   "metadata": {},
   "outputs": [],
   "source": []
  }
 ],
 "metadata": {
  "kernelspec": {
   "display_name": "kernel1",
   "language": "python",
   "name": "kernel1"
  },
  "language_info": {
   "codemirror_mode": {
    "name": "ipython",
    "version": 3
   },
   "file_extension": ".py",
   "mimetype": "text/x-python",
   "name": "python",
   "nbconvert_exporter": "python",
   "pygments_lexer": "ipython3",
   "version": "3.9.20"
  }
 },
 "nbformat": 4,
 "nbformat_minor": 5
}
