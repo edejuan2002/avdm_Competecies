{
 "cells": [
  {
   "cell_type": "code",
   "execution_count": 1,
   "metadata": {},
   "outputs": [
    {
     "name": "stdout",
     "output_type": "stream",
     "text": [
      "       any codi_alumne  pcat pcat_cl pcat_ee pcast pcast_cl pcast_ee  pmat  \\\n",
      "0     2023  1067688402  87.3   86.36   83.33  85.6    95.45    72.22  80.2   \n",
      "1     2023  1752177584    61   63.64      50  71.1    70.45    66.67  83.4   \n",
      "2     2023   715439651  87.6   86.36   88.89  77.9    84.09    66.67  96.1   \n",
      "3     2023  1067677181  85.5   97.73   66.67  71.4    70.45    72.22  70.6   \n",
      "4     2023  1402627523  94.3   88.64     100  97.1      100    94.44  92.9   \n",
      "...    ...         ...   ...     ...     ...   ...      ...      ...   ...   \n",
      "9995  2023   674696288  85.3   97.73   61.11  84.3      100    66.67  95.7   \n",
      "9996  2023   674719730  73.1   79.55   66.67  85.7    84.09    88.89  94.7   \n",
      "9997  2023   674730062  51.8   36.36   72.22  57.2    31.82    77.78    67   \n",
      "9998  2023   674989707  87.5      75     100  89.9    88.64    94.44  74.9   \n",
      "9999  2023  1752210359  83.3   97.73   55.56  89.1    90.91    88.89  79.8   \n",
      "\n",
      "     pmat_nc  ...   pmed pmed_comp1 pmed_comp2 pmed_comp3 genere  \\\n",
      "0        100  ...  70.56         75         70      66.67      D   \n",
      "1        100  ...  69.44         75         50      83.33      H   \n",
      "2        100  ...  94.58      93.75         90        100      H   \n",
      "3      85.71  ...  82.78         75         90      83.33      D   \n",
      "4        100  ...     85         75         80        100      D   \n",
      "...      ...  ...    ...        ...        ...        ...    ...   \n",
      "9995   85.71  ...    100        100        100        100      H   \n",
      "9996   92.86  ...  81.67         75         70        100      H   \n",
      "9997   71.43  ...  39.17       37.5         30         50      H   \n",
      "9998     100  ...    100        100        100        100      D   \n",
      "9999   92.86  ...  91.11        100         90      83.33      D   \n",
      "\n",
      "     mes_naixement any_naixement                  area_territorial naturalesa  \\\n",
      "0               12          2011         Maresme - Vallès Oriental     Privat   \n",
      "1                5          2011                    Baix Llobregat     Públic   \n",
      "2                1          2011         Maresme - Vallès Oriental     Privat   \n",
      "3                6          2011         Maresme - Vallès Oriental     Privat   \n",
      "4                7          2011                    Baix Llobregat     Privat   \n",
      "...            ...           ...                               ...        ...   \n",
      "9995             7          2011  Consorci d'Educació de Barcelona     Privat   \n",
      "9996             8          2011  Consorci d'Educació de Barcelona     Privat   \n",
      "9997             4          2011  Consorci d'Educació de Barcelona     Privat   \n",
      "9998             4          2011  Consorci d'Educació de Barcelona     Privat   \n",
      "9999             2          2011                    Baix Llobregat     Públic   \n",
      "\n",
      "                h_bitat  \n",
      "0         Més de 100000  \n",
      "1     De 10001 a 100000  \n",
      "2     De 10001 a 100000  \n",
      "3         Més de 100000  \n",
      "4     De 10001 a 100000  \n",
      "...                 ...  \n",
      "9995      Més de 100000  \n",
      "9996      Més de 100000  \n",
      "9997      Més de 100000  \n",
      "9998      Més de 100000  \n",
      "9999  De 10001 a 100000  \n",
      "\n",
      "[10000 rows x 28 columns]\n"
     ]
    }
   ],
   "source": [
    "import pandas as pd\n",
    "from sodapy import Socrata\n",
    "\n",
    "# Replace None with your app token \"AVDM_Competencies\" for authenticated access\n",
    "client = Socrata(\"analisi.transparenciacatalunya.cat\", \"LvvKUfbMJLH9IdgS7C4hXbeye\")\n",
    "\n",
    "# Fetch the first 2000 results as JSON and convert them to a Python list of dictionaries\n",
    "results = client.get(\"rk5x-gny6\",limit=10000)\n",
    "\n",
    "# Convert to pandas DataFrame\n",
    "Competencias = pd.DataFrame.from_records(results)\n",
    "\n",
    "# Display the DataFrame\n",
    "print(Competencias)"
   ]
  },
  {
   "cell_type": "code",
   "execution_count": null,
   "metadata": {},
   "outputs": [],
   "source": []
  },
  {
   "cell_type": "code",
   "execution_count": null,
   "metadata": {},
   "outputs": [],
   "source": []
  },
  {
   "cell_type": "code",
   "execution_count": 2,
   "metadata": {},
   "outputs": [
    {
     "name": "stdout",
     "output_type": "stream",
     "text": [
      "     curs_escolar codi_centre                      nom_centre  \\\n",
      "0       2022-2023    08053625                  Delta - Espiga   \n",
      "1       2022-2023    08031356                        Montagut   \n",
      "2       2022-2023    08031371                      Sant Josep   \n",
      "3       2022-2023    08031401         Sant Ramon de Penyafort   \n",
      "4       2022-2023    08031381  Vedruna Vilafranca del Penedès   \n",
      "...           ...         ...                             ...   \n",
      "4155    2017-2018    08000700             Maristes Champagnat   \n",
      "4156    2017-2018    08000670         Mare de Déu de la Salut   \n",
      "4157    2017-2018    08000608                      Montserrat   \n",
      "4158    2017-2018    08000578              Nen Jesús de Praga   \n",
      "4159    2017-2018    08000517                     Sant Andreu   \n",
      "\n",
      "                    municipi                               titularitat  \\\n",
      "0     Vilafranca del Penedès                         Fundació L'Espiga   \n",
      "1     Vilafranca del Penedès                  Fundació Escola Montagut   \n",
      "2     Vilafranca del Penedès    Fundació Esc. Sant Josep de Vilafranca   \n",
      "3     Vilafranca del Penedès              Sagrada Família, Fills de la   \n",
      "4     Vilafranca del Penedès       Fundació Vedruna Catalunya Educació   \n",
      "...                      ...                                       ...   \n",
      "4155                Badalona                       Fundació Champagnat   \n",
      "4156                Badalona  Fund.Escoles Parroquials Arxidiòcesi BCN   \n",
      "4157                Badalona                       Col. Montserrat, SL   \n",
      "4158                Badalona                    Nen Jesús de Praga, SL   \n",
      "4159                Badalona     Sagrada Família de Natzaret, Mission.   \n",
      "\n",
      "     unitats_concertades_ede alumnes_ede dotaci_plantilla        brut  \\\n",
      "0                          8          48               23    808440.3   \n",
      "1                        NaN         NaN             3968  1582731.95   \n",
      "2                        NaN         NaN             1972   859613.94   \n",
      "3                        NaN         NaN             3768  1600690.83   \n",
      "4                        NaN         NaN             3768  1539828.94   \n",
      "...                      ...         ...              ...         ...   \n",
      "4155                     NaN         NaN            52.33  1927439.93   \n",
      "4156                     NaN         NaN               13   429077.23   \n",
      "4157                     NaN         NaN               13   446602.36   \n",
      "4158                     NaN         NaN            19.72   751687.93   \n",
      "4159                     NaN         NaN            57.16  2058083.26   \n",
      "\n",
      "       seg_social  ... unitats_concertades_eso alumnes_einf alumnes_pri  \\\n",
      "0     257892.4557  ...                     NaN          NaN         NaN   \n",
      "1     504891.4921  ...                       8          148         316   \n",
      "2     274216.8469  ...                       4           70         159   \n",
      "3     510620.3748  ...                       8          124         306   \n",
      "4     491205.4319  ...                       8          126         301   \n",
      "...           ...  ...                     ...          ...         ...   \n",
      "4155    595578.94  ...                      12          163         459   \n",
      "4156    132584.86  ...                     NaN           72         158   \n",
      "4157    138000.13  ...                     NaN           71         144   \n",
      "4158    232271.57  ...                       4           59         159   \n",
      "4159    635947.73  ...                      12          200         461   \n",
      "\n",
      "     alumnes_eso unitats_concertades_cfpm alumnes_batx alumnes_cfpm  \\\n",
      "0            NaN                      NaN          NaN          NaN   \n",
      "1            243                      NaN          NaN          NaN   \n",
      "2            117                      NaN          NaN          NaN   \n",
      "3            229                      NaN          NaN          NaN   \n",
      "4            239                      NaN          NaN          NaN   \n",
      "...          ...                      ...          ...          ...   \n",
      "4155         343                      NaN          NaN          NaN   \n",
      "4156         NaN                      NaN          NaN          NaN   \n",
      "4157         NaN                      NaN          NaN          NaN   \n",
      "4158         123                      NaN          NaN          NaN   \n",
      "4159         354                      NaN          NaN          NaN   \n",
      "\n",
      "     alumnes_cfps unitats_concertades_batx unitats_concertades_cfps  \n",
      "0             NaN                      NaN                      NaN  \n",
      "1             NaN                      NaN                      NaN  \n",
      "2             NaN                      NaN                      NaN  \n",
      "3             NaN                      NaN                      NaN  \n",
      "4             NaN                      NaN                      NaN  \n",
      "...           ...                      ...                      ...  \n",
      "4155          NaN                      NaN                      NaN  \n",
      "4156          NaN                      NaN                      NaN  \n",
      "4157          NaN                      NaN                      NaN  \n",
      "4158          NaN                      NaN                      NaN  \n",
      "4159          NaN                      NaN                      NaN  \n",
      "\n",
      "[4160 rows x 23 columns]\n"
     ]
    }
   ],
   "source": [
    "import pandas as pd\n",
    "from sodapy import Socrata\n",
    "\n",
    "# Replace None with your app token \"AVDM_Competencies\" for authenticated access\n",
    "client = Socrata(\"analisi.transparenciacatalunya.cat\", \"LvvKUfbMJLH9IdgS7C4hXbeye\")\n",
    "\n",
    "# Fetch the first 2000 results as JSON and convert them to a Python list of dictionaries\n",
    "results = client.get(\"8spq-9nx7\",limit=10000)\n",
    "\n",
    "# Convert to pandas DataFrame\n",
    "Gastos = pd.DataFrame.from_records(results)\n",
    "\n",
    "# Display the DataFrame\n",
    "print(Gastos)"
   ]
  },
  {
   "cell_type": "code",
   "execution_count": null,
   "metadata": {},
   "outputs": [],
   "source": []
  },
  {
   "cell_type": "code",
   "execution_count": null,
   "metadata": {},
   "outputs": [],
   "source": []
  },
  {
   "cell_type": "code",
   "execution_count": null,
   "metadata": {},
   "outputs": [],
   "source": []
  },
  {
   "cell_type": "code",
   "execution_count": null,
   "metadata": {},
   "outputs": [],
   "source": []
  },
  {
   "cell_type": "code",
   "execution_count": null,
   "metadata": {},
   "outputs": [],
   "source": []
  },
  {
   "cell_type": "code",
   "execution_count": 16,
   "metadata": {},
   "outputs": [
    {
     "name": "stdout",
     "output_type": "stream",
     "text": [
      "      any codi_alumne  pcat pcat_cl pcat_ee pcast pcast_cl pcast_ee  pmat  \\\n",
      "0    2023   454865051  87.2   97.73   66.67  81.2    95.45    55.56  67.1   \n",
      "1    2023   863594859  51.8   59.09   44.44    54    65.91    33.33  65.9   \n",
      "2    2023    55315887  74.2      75   66.67  69.1    70.45    61.11  91.5   \n",
      "3    2023   454854718  50.2   45.45      50  63.9    56.82    61.11  47.9   \n",
      "4    2023   493493648  78.5   90.91   61.11  90.6    90.91    88.89  77.7   \n",
      "..    ...         ...   ...     ...     ...   ...      ...      ...   ...   \n",
      "995  2023   862829050  96.6   93.18     100    89    95.45    77.78  96.8   \n",
      "996  2023   862852493  84.5   84.09   83.33    81    86.36    72.22    94   \n",
      "997  2023   862863715  81.6   93.18   66.67  91.7      100    83.33  96.8   \n",
      "998  2023   863020257  89.4   97.73   77.78  87.4    95.45    77.78    89   \n",
      "999  2023   863605192  75.9   79.55   88.89  74.5    72.73    77.78  60.4   \n",
      "\n",
      "    pmat_nc  ...   pmed pmed_comp1 pmed_comp2 pmed_comp3 genere mes_naixement  \\\n",
      "0     78.57  ...  55.42      56.25         60         50      D             6   \n",
      "1     57.14  ...  40.69      43.75         20      58.33      H            10   \n",
      "2     92.86  ...  78.33         75         60        100      H             5   \n",
      "3     57.14  ...  60.56         75         40      66.67      H             4   \n",
      "4     78.57  ...  82.78         75         90      83.33      H             2   \n",
      "..      ...  ...    ...        ...        ...        ...    ...           ...   \n",
      "995     100  ...    100        100        100        100      H             2   \n",
      "996   92.86  ...  85.83       87.5         70        100      D             5   \n",
      "997     100  ...  89.17       87.5         80        100      H            11   \n",
      "998     100  ...  84.03      68.75        100      83.33      H             5   \n",
      "999   85.71  ...  80.83       62.5         80        100      H             5   \n",
      "\n",
      "    any_naixement                  area_territorial naturalesa  \\\n",
      "0            2011  Consorci d'Educació de Barcelona     Privat   \n",
      "1            2011         Maresme - Vallès Oriental     Privat   \n",
      "2            2011  Consorci d'Educació de Barcelona     Privat   \n",
      "3            2011  Consorci d'Educació de Barcelona     Privat   \n",
      "4            2011  Consorci d'Educació de Barcelona     Privat   \n",
      "..            ...                               ...        ...   \n",
      "995          2011         Maresme - Vallès Oriental     Privat   \n",
      "996          2011         Maresme - Vallès Oriental     Privat   \n",
      "997          2011         Maresme - Vallès Oriental     Privat   \n",
      "998          2011         Maresme - Vallès Oriental     Privat   \n",
      "999          2011         Maresme - Vallès Oriental     Privat   \n",
      "\n",
      "               h_bitat  \n",
      "0        Més de 100000  \n",
      "1    De 10001 a 100000  \n",
      "2        Més de 100000  \n",
      "3        Més de 100000  \n",
      "4        Més de 100000  \n",
      "..                 ...  \n",
      "995  De 10001 a 100000  \n",
      "996  De 10001 a 100000  \n",
      "997  De 10001 a 100000  \n",
      "998  De 10001 a 100000  \n",
      "999  De 10001 a 100000  \n",
      "\n",
      "[1000 rows x 28 columns]\n"
     ]
    }
   ],
   "source": [
    "import pandas as pd\n",
    "from sodapy import Socrata\n",
    "\n",
    "# Unauthenticated client only works with public data sets. Note 'None'\n",
    "# in place of application token, and no username or password:\n",
    "client = Socrata(\"analisi.transparenciacatalunya.cat\", \n",
    "                 \"LvvKUfbMJLH9IdgS7C4hXbeye\",\n",
    "                 username=\"eduardodejuanbitria@gmail.com\",\n",
    "                 password=\"JArMFrTf9EwCuP.\")\n",
    "\n",
    "# Example authenticated client (needed for non-public datasets):\n",
    "# client = Socrata(analisi.transparenciacatalunya.cat,\n",
    "#                  MyAppToken,\n",
    "#                  username=\"user@example.com\",\n",
    "#                  password=\"AFakePassword\")\n",
    "\n",
    "# First 2000 results, returned as JSON from API / converted to Python list of\n",
    "# dictionaries by sodapy.\n",
    "results = client.get(\"rk5x-gny6\")\n",
    "\n",
    "# Convert to pandas DataFrame\n",
    "results_df = pd.DataFrame.from_records(results)\n",
    "\n",
    "# Display the DataFrame\n",
    "print(results_df)"
   ]
  },
  {
   "cell_type": "code",
   "execution_count": 11,
   "metadata": {},
   "outputs": [
    {
     "data": {
      "text/plain": [
       "pandas.core.frame.DataFrame"
      ]
     },
     "execution_count": 11,
     "metadata": {},
     "output_type": "execute_result"
    }
   ],
   "source": [
    "type(results_df)"
   ]
  },
  {
   "cell_type": "code",
   "execution_count": 2,
   "metadata": {},
   "outputs": [
    {
     "ename": "SyntaxError",
     "evalue": "invalid syntax (349717031.py, line 1)",
     "output_type": "error",
     "traceback": [
      "\u001b[0;36m  Cell \u001b[0;32mIn[2], line 1\u001b[0;36m\u001b[0m\n\u001b[0;31m    https://analisi.transparenciacatalunya.cat/resource/rk5x-gny6.json\u001b[0m\n\u001b[0m          ^\u001b[0m\n\u001b[0;31mSyntaxError\u001b[0m\u001b[0;31m:\u001b[0m invalid syntax\n"
     ]
    }
   ],
   "source": [
    "https://analisi.transparenciacatalunya.cat/resource/rk5x-gny6.json"
   ]
  }
 ],
 "metadata": {
  "kernelspec": {
   "display_name": "myenv39",
   "language": "python",
   "name": "python3"
  },
  "language_info": {
   "codemirror_mode": {
    "name": "ipython",
    "version": 3
   },
   "file_extension": ".py",
   "mimetype": "text/x-python",
   "name": "python",
   "nbconvert_exporter": "python",
   "pygments_lexer": "ipython3",
   "version": "3.9.20"
  }
 },
 "nbformat": 4,
 "nbformat_minor": 2
}
